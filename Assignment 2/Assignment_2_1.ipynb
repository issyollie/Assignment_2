{
 "cells": [
  {
   "cell_type": "markdown",
   "id": "6e26ace7-1da1-42b8-8650-934fc72fd371",
   "metadata": {},
   "source": [
    "# GG4257 - Urban Analytics: A Toolkit for Sustainable Urban Development\n",
    "## Lab Assignment No 2 "
   ]
  },
  {
   "cell_type": "markdown",
   "id": "0582ced3-2230-4c70-bac6-b9ba62a7be88",
   "metadata": {},
   "source": [
    "# Assignment Instructions\n",
    "\n",
    "For this assignment, you are required to create a **report** that includes your approach to the challenges presented in practical **Labs 5, 6, and 7**. The report should be in the form of a **Jupyter Notebook** and should contain a **GitHub repository** where all the code used can be replicated to achieve the same results. You can use the same repository you shared during Assignment No 1, but describe where the new labs will be included. \n",
    "\n",
    "**General Considerations:**\n",
    "\n",
    "1. Include the coursework cover page available in the Virtual Office as the initial section of your report, with all relevant information and the GitHub repository link, but exclude the word count.  \n",
    "   \n",
    "2. You can structure your report as you prefer, but try to be consistent, organized and clear. You can use the same repository you shared during Assignment No 1, but describe where the new labs will be included. \n",
    "   \n",
    "3. To avoid exceeding the size limit of a GitHub repository, it may not be possible to push a notebook containing all outcomes. To address this issue, please include a screenshot of the last outcome of each challenge using the description cells in the notebook. Once included, clear all outcomes to reduce the notebook's size. I will reproduce the code and compare the images you provided with the outcomes I obtained while running your code to ensure that I get the same results.\n",
    "  \n",
    "4. Once again, you can structure this report in any way you want. Creating another creates a single, large notebook with multiple sections, or you can follow the nested notebook with folders structure I provided during the last Assigment. There will be marks given for the structure, coherence, consistency, and clarity of your report \n",
    "   \n",
    "5. **Descriptions and Coding Comments**: Each code cell should have comments that describe what the code is doing, any issues or barriers, citations, and other relevant information. Use markdown cells where you explain the problem you are addressing and how you did it (here, you can add *screenshots* from the final outcomes). Some challenges only require you to answer questions and provide insights. This will help the marker evaluate your understanding of the code, the outcomes, and the  problem you have solved.\n",
    "   \n",
    "6. **Data**: As you already know, the challenges usually come with data. Once again, ensure you add a clear restructure and description on how to get large data or any data you can't push into the repo. For larger datasets, you can state that the data will be available in a public folder such as *Google Drive* or *One Drive*. Then, provide instructions on where to add or locate the data to replicate the results properly.\n",
    "\n",
    "   >It is your responsibility to ensure the reproducibility of the repo and notebook. Make sure everything is clearly described and available. This is a typical workflow for most spatial data science projects, particularly in urban analytics.\n",
    "\n",
    "8. The length of the report is not restricted, as you may need screenshots, descriptions, and code.\n",
    "   \n",
    "# Example of report structure and the challenges that must be included.\n",
    "\n",
    "- Cover Page\n",
    "- Introduction  - How to replicate the code and get the required data\n",
    "- Lab No 5: Intro to Networks - 2 Challenges\n",
    "- Lab No 6: Geodemographics: 1 Challenges\n",
    "- Lab No 7: Spatial Microsimulation: 3 Challenges\n",
    "- Final Remarks(limitations, barriers, and any additional comments)\n"
   ]
  },
  {
   "cell_type": "markdown",
   "id": "285e93bd-659c-4323-96fe-fc0c6113e50b",
   "metadata": {},
   "source": [
    "# Cover Page\n",
    "## Student ID: 200024980\n",
    "## Module Code: GG4257\n",
    "## Module Title: Urban Analytics: A Toolkit for Sustainable Urban Development\n",
    "## Assignment: Labs 5-7 and Proposal \n",
    "## Degree Programme: International Relations and Geography \n",
    "## Deadline Date: 21/03/24\n",
    "In submitting this assignment I hereby confirm that\n",
    "\n",
    "I have read the University's statement on Good Academic Practice; that the following work is my own work; and that significant academic debts and borrowings have been properly acknowledged and referenced.\n"
   ]
  },
  {
   "cell_type": "markdown",
   "id": "44c9bd75-ad5e-4278-80bb-d9515a436064",
   "metadata": {},
   "source": [
    "# Introduction\n",
    "This section introduces how to replicate the code and how to get the required data. \n",
    "\n",
    "All the data required to run this notebook locally will be placed in a Google Drive folder. In addition, screenshots of essential maps and graphs will be included in this folder and accessed throughout the notebook to save processing time.\n",
    "\n",
    "Moreover, the notebook will also be published on my Github Repo under the Assignment 1 folder. In case you would like to run this locally, I will also upload the environment file (.yml) to the repo, as well as the link to the Google Drive folder in the read me file.\n",
    "\n",
    "In the script below, all the paths to the data assume that the file is in a folder called 'data'. \n",
    "\n",
    "## [Google Drive Folder with Data](https://drive.google.com/drive/folders/13wSOHnQqmqMQAJ4uYTk5HldfkwJNOs0b?usp=drive_link)\n",
    "## [My Github Repo](https://github.com/issyollie/Assignment_2)"
   ]
  },
  {
   "cell_type": "markdown",
   "id": "6b5545a7-0389-4334-9ac4-6d5f566cb16b",
   "metadata": {},
   "source": [
    "# Lab No. 5: Intro to Networks"
   ]
  },
  {
   "cell_type": "markdown",
   "id": "876b86cd-52ab-42c9-8b9b-4d354ac4fbd9",
   "metadata": {},
   "source": [
    "## Challenge 1\n",
    "It's time for you to apply everything you learned by analyzing a case study of GitHub's collaborator network data.\n",
    "\n",
    "- **Data**: `github_users.p` (avaliable in Moodle)\n",
    "\n",
    "> This dataset is a GitHub user collaboration network. As you already know, GitHub is a social coding site where users can collaborate on code repositories. In this network, nodes are users, and edges indicate that two users are collaborators on at least one GitHub repository.\n",
    "\n",
    "1. Read the GitHub network dataset.\n",
    "2. Describe using the basic functions of the graph's size. Explore nodes and edges. Provide how many nodes and edges are present in the network\n",
    "3. Calculate the **degree centrality** of the GitHub collaboration network G. Using the .values() method of the network (e.g. G), extract the degree centrality values and convert them into a list. Then, plot a histogram to visualize the distribution of node degrees in the network.\n",
    "4. Make a subset of the initial network (e.g. Gh_sub), where you include at least five nodes and their corresponding edges. Experiment with multiple nodes so you have a graph with enough edges to work on.\n",
    "5. Plot the subset graph created.\n",
    "6. Now calculate another relevant measure of the network -- **betweenness centrality**. Plot the betweenness centrality distribution of the subset you created. Tip: Same steps from the previous step, but use `nx.betweenness_centrality()`\n",
    "7. Plot the Matrix, Arc and Circos from the subset."
   ]
  },
  {
   "cell_type": "markdown",
   "id": "499564a1-844e-4fa6-83fa-e1b51a82967c",
   "metadata": {},
   "source": [
    "### 1. Reading the GitHub network dataset "
   ]
  },
  {
   "cell_type": "code",
   "execution_count": null,
   "id": "a59281df-fcf5-4462-aa4e-4d6e15144540",
   "metadata": {},
   "outputs": [],
   "source": [
    "import pickle\n",
    "\n",
    "with open('data/github_users.p', 'rb') as x:\n",
    "    git = pickle.load(x)\n",
    "git"
   ]
  },
  {
   "cell_type": "markdown",
   "id": "07892b99-2d9c-416d-ab8a-1c58ef5ce3e3",
   "metadata": {},
   "source": [
    "### 2. Describing the data\n",
    "Describe using the basic functions of the graph's size. Explore nodes and edges. Provide how many nodes and edges are present in the network"
   ]
  },
  {
   "cell_type": "code",
   "execution_count": null,
   "id": "74bb6306-795b-499e-8ef8-cee3a08d06bc",
   "metadata": {},
   "outputs": [],
   "source": [
    "print(len(git))# Returns the size of the graph `T`, \n",
    "print(type(git.nodes())) # Returns the type of `T.nodes()`\n",
    "print(list(git.edges(data=True))[-1]) # Reads the attributes associated with the last element of the edges list. \n",
    "print(list(git.nodes(data=True))[0]) # Reads the attributes associated with the firts element of the node list.\n",
    "print(type(list(git.edges(data=True))[-1][2])) # Provides the type of data "
   ]
  },
  {
   "cell_type": "markdown",
   "id": "14bc00d4-ceb1-41ef-b22c-df6c1a99f635",
   "metadata": {},
   "source": [
    "Looks like the graph is over 56,000 entries in size. Now, let's try to see how many nodes and edges there are. "
   ]
  },
  {
   "cell_type": "code",
   "execution_count": null,
   "id": "4a43e68d-3041-46f4-80a7-b6a84100ed2d",
   "metadata": {},
   "outputs": [],
   "source": [
    "# Here, I can use .edges/.nodes and len() to print the number of nodes and edges \n",
    "print(len(list(git.edges)))\n",
    "print(len(list(git.nodes)))"
   ]
  },
  {
   "cell_type": "code",
   "execution_count": null,
   "id": "69e1a928-0c58-4642-8298-fc2fa1dc92fa",
   "metadata": {
    "scrolled": true
   },
   "outputs": [],
   "source": [
    "# The outcome of this is extremely large - it's all the connections between users in the data. \n",
    "list(git.edges)"
   ]
  },
  {
   "cell_type": "markdown",
   "id": "40c7cdf1-150e-4f79-a3b6-7f6b780517f1",
   "metadata": {},
   "source": [
    "There are 72900 edges and 56519 nodes. This suggests that some nodes have multiple connections, which could be a sign that this is best represented by a multi-directional graph."
   ]
  },
  {
   "cell_type": "markdown",
   "id": "2b44cb00-fc01-49b9-81c6-2cc2b065f9f2",
   "metadata": {},
   "source": [
    "### 3. Degree Centrality\n",
    "Calculate the **degree centrality** of the GitHub collaboration network G. Using the .values() method of the network (e.g. G), extract the degree centrality values and convert them into a list. Then, plot a histogram to visualize the distribution of node degrees in the network."
   ]
  },
  {
   "cell_type": "code",
   "execution_count": null,
   "id": "7732a755-e11a-4923-8257-261be1cedd30",
   "metadata": {},
   "outputs": [],
   "source": [
    "import networkx as nx\n",
    "import matplotlib.pyplot as plt\n",
    "nx.number_of_selfloops(git)\n",
    "# There are no self-loops, which makes sense, considering the structure of Github"
   ]
  },
  {
   "cell_type": "code",
   "execution_count": null,
   "id": "fdcb1b41-98d8-4eaf-896f-347684629443",
   "metadata": {
    "scrolled": true
   },
   "outputs": [],
   "source": [
    "# Creating an empty graph called git_network\n",
    "git_network = nx.Graph()\n",
    "git_network.add_edges_from(git.edges) # Adding the edges from git.edges\n",
    "\n",
    "# This line here calculates the degree centrality for all the notes in \"git\" and stores them in a dictionary (called degree-centrality)\n",
    "degree_centrality = nx.degree_centrality(git_network)\n",
    "\n",
    "# Extracting degree centrality values as a list\n",
    "centrality_list = list(degree_centrality.values())\n",
    "\n",
    "# Print the degree centrality list\n",
    "print(centrality_list) # This outcome is quite long, as a note. "
   ]
  },
  {
   "cell_type": "code",
   "execution_count": null,
   "id": "638cfb9e-2d58-42e0-b580-5b7841c98a23",
   "metadata": {},
   "outputs": [],
   "source": [
    "# I can use .hist to create a histogram based on the matplotlib library. \n",
    "plt.hist(centrality_list, bins=10) \n",
    "\n",
    "# Setting labels and title\n",
    "plt.xlabel(\"Degree Centrality\")\n",
    "plt.ylabel(\"Number of Nodes\")\n",
    "plt.title(\"Distribution of Node Degrees\")\n",
    "plt.show"
   ]
  },
  {
   "attachments": {},
   "cell_type": "markdown",
   "id": "95a4a02e-fe68-4d3c-9ae5-651304471db4",
   "metadata": {},
   "source": [
    "It looks like most nodes have a very low degree centrality. Fewer than a thousand have around a 0.01 centrality. Very few have over 0.03 degree centrality. "
   ]
  },
  {
   "cell_type": "markdown",
   "id": "f6736714-1154-4516-8b65-b86a1889e4d5",
   "metadata": {},
   "source": [
    "### 4. Subsetting the data \n",
    "Make a subset of the initial network (e.g. Gh_sub), where you include at least five nodes and their corresponding edges. Experiment with multiple nodes so you have a graph with enough edges to work on."
   ]
  },
  {
   "cell_type": "code",
   "execution_count": null,
   "id": "817bb781-d71d-4899-90a8-5f01fc2be01f",
   "metadata": {
    "scrolled": true
   },
   "outputs": [],
   "source": [
    "subset_from_git=git.edges(['u264','u233', 'u9965', 'u42000', 'u55', 'u7534'], data=True) # I chose these at random. \n",
    "subset_from_git"
   ]
  },
  {
   "cell_type": "code",
   "execution_count": null,
   "id": "77156194-3db1-446b-88dd-910eca5768e9",
   "metadata": {},
   "outputs": [],
   "source": [
    "#Creating an empty graph, then adding in the data\n",
    "git_sub = nx.DiGraph()\n",
    "git_sub.add_edges_from(subset_from_git) #Adding the list from the subset of nodes.\n",
    "len(git_sub)"
   ]
  },
  {
   "cell_type": "markdown",
   "id": "c56e34fd-f914-405a-a0cb-2ad7aa82b04c",
   "metadata": {},
   "source": [
    " ### 5. Plot the subset graph created."
   ]
  },
  {
   "cell_type": "code",
   "execution_count": null,
   "id": "ade789b8-a10c-4bdc-9433-63f25baddf56",
   "metadata": {},
   "outputs": [],
   "source": [
    "plt.figure(figsize=(8, 8))\n",
    "nx.draw(git_sub, with_labels=True)\n",
    "plt.show()"
   ]
  },
  {
   "cell_type": "markdown",
   "id": "368661b3-2c29-4f54-bc8b-20327ddeeb98",
   "metadata": {},
   "source": [
    "### 6. Calculating betweenness centrality\n",
    "Now calculate another relevant measure of the network -- **betweenness centrality**. Plot the betweenness centrality distribution of the subset you created. Tip: Same steps from the previous step, but use `nx.betweenness_centrality()`"
   ]
  },
  {
   "cell_type": "code",
   "execution_count": null,
   "id": "287132a8-fe7b-48de-9a0d-2d201a3babbd",
   "metadata": {},
   "outputs": [],
   "source": [
    "# Creating an empty graph called git_network\n",
    "git_network_subset = nx.Graph()\n",
    "git_network_subset.add_edges_from(subset_from_git) # Adding the edges from git.edges\n",
    "\n",
    "# This line here calculates the betweenness centrality for all the notes in \"git\" and stores them in a dictionary (called betweenness list)\n",
    "betweenness_centrality = nx.betweenness_centrality(git_network_subset)\n",
    "\n",
    "# Extracting degree centrality values as a list\n",
    "betweenness_list = list(betweenness_centrality.values())\n",
    "\n",
    "# Print the degree centrality list\n",
    "#print(betweenness_list) # This outcome is quite long, as a note. \n"
   ]
  },
  {
   "cell_type": "code",
   "execution_count": null,
   "id": "d9e35dd5-50c7-4fac-a1b1-e6298fad5655",
   "metadata": {},
   "outputs": [],
   "source": [
    "# I can use .hist to create a histogram based on the matplotlib library. \n",
    "plt.hist(betweenness_list, bins=5) \n",
    "\n",
    "# Setting labels and title\n",
    "plt.xlabel(\"Betweenness Centrality\")\n",
    "plt.ylabel(\"Number of Nodes\")\n",
    "plt.title(\"Distribution of Betweenness Centrality\")\n",
    "plt.show"
   ]
  },
  {
   "cell_type": "code",
   "execution_count": null,
   "id": "b0f425d6-99e5-4416-8a80-4292a17b4a4b",
   "metadata": {},
   "outputs": [],
   "source": [
    "# I can also plot this \n",
    "import networkx as nx\n",
    "import matplotlib.pyplot as plt\n",
    "\n",
    "# Making a graph as before. \n",
    "git_network_subset = nx.Graph()\n",
    "git_network_subset.add_edges_from(subset_from_git)\n",
    "\n",
    "# Getting betweenness centrality \n",
    "betweenness_centrality = nx.betweenness_centrality(git_network_subset)\n",
    "\n",
    "# Plot the graph\n",
    "pos = nx.spring_layout(git_network_subset)\n",
    "nx.draw(git_network_subset, pos, with_labels=True, node_size=700, node_color='skyblue')\n",
    "plt.title('Graph git_network_subset with Betweenness Centrality')\n",
    "plt.show()"
   ]
  },
  {
   "attachments": {},
   "cell_type": "markdown",
   "id": "93897906-bec6-4b47-b803-24bbced4a9f4",
   "metadata": {},
   "source": [
    "Looks like the user 7525 has a very high betweenness centrality. While it is hard to see the overlapping users in the other section, it does reveal that the majority of users have connections with only a handful of major repos. Additionally, there are also outliers that don't have any connections with others. "
   ]
  },
  {
   "cell_type": "markdown",
   "id": "133ac6ba-7f0f-49db-a089-55766920892f",
   "metadata": {},
   "source": [
    "### 7. Plot the Matrix, Arc and Circos from the subset."
   ]
  },
  {
   "attachments": {},
   "cell_type": "markdown",
   "id": "621484b2-c727-4542-b397-f8c397624779",
   "metadata": {},
   "source": [
    "#### 7.1 Plotting the Matrix "
   ]
  },
  {
   "cell_type": "code",
   "execution_count": null,
   "id": "bc9bb635-dbf4-4601-bee8-e2d997f7a480",
   "metadata": {},
   "outputs": [],
   "source": [
    "#Now the same but with the subset from twitter data.\n",
    "import nxviz as nv\n",
    "nv.MatrixPlot(git_sub)\n",
    "plt.show()"
   ]
  },
  {
   "attachments": {},
   "cell_type": "markdown",
   "id": "a1336675-3ab0-40cb-bd49-ee4b66cf049b",
   "metadata": {},
   "source": [
    "#### 7.2 Plotting the Arc"
   ]
  },
  {
   "cell_type": "code",
   "execution_count": null,
   "id": "cb16a38c-306a-4a07-bb95-74c2a6c1b3f2",
   "metadata": {
    "scrolled": true
   },
   "outputs": [],
   "source": [
    "nv.ArcPlot(git_sub)\n",
    "plt.show()"
   ]
  },
  {
   "attachments": {},
   "cell_type": "markdown",
   "id": "839e5a7b-6267-4a1a-a0f1-93d1a7dd36c8",
   "metadata": {},
   "source": [
    "#### 7.3 Plotting the Circos"
   ]
  },
  {
   "cell_type": "code",
   "execution_count": null,
   "id": "4b868522-f148-4218-80be-5a5e585655e7",
   "metadata": {},
   "outputs": [],
   "source": [
    "nv.CircosPlot(git_sub)\n",
    "plt.show()"
   ]
  },
  {
   "cell_type": "markdown",
   "id": "bb7bfbea-4894-4fc8-9937-56cc4ae2f80f",
   "metadata": {},
   "source": [
    "These graphs reflect that there are three major git users that most users have interactions with. "
   ]
  },
  {
   "cell_type": "markdown",
   "id": "dd0c2822-5d68-45f1-ad4c-9ff08b59e100",
   "metadata": {},
   "source": [
    "# Challenge 2\n",
    "\n",
    "This challenge is about OSMnx. You will explore and analyze a city's street network using the OSMnx Python library.\n",
    "\n",
    "1. Use OSMnx to download the street network of a city of your choice. You can specify the city name, BBox or a Dict.\n",
    "2. Calculate basic statistics for the street network, such as the number of nodes, edges, average node degree, etc.\n",
    "3. Use OSMnx to plot the street network. Customize the plot to make it visually appealing, including node size, edge color. See the potential options here: https://osmnx.readthedocs.io/en/stable/user-reference.html#module-osmnx.plot\n",
    "4. Utilize the routing capabilities of OSMnx to find the shortest path between two points in the street network. Plot the route on top of the street network.\n",
    "5. Calculate the centrality measures (e.g., degree centrality and betweenness_centrality) for nodes in the street network.\n",
    "6. Create the figure-groud from the selected city\n",
    "7. Create interactive maps to plot nodes, edges, nodes+edges and one of the centrality measures.\n",
    "8. Export the street network to a GeoPackage (.gpkg) file. Ensure that the exported file contains both node and edge attributes. Demonstrate that the new GeoPackage can be used and read in Python using any of the libraries we have seen in the class to create a simple and interactive map.\n",
    "9. Finally, use OSMnx to extract other urban elements (e.g., buildings, parks) and plot them."
   ]
  },
  {
   "cell_type": "markdown",
   "id": "d1a26e2a-e45f-4b50-a450-73c2afede8f5",
   "metadata": {},
   "source": [
    "## 1. Using OSMnx: Dublin \n",
    "Use OSMnx to download the street network of a city of your choice. You can specify the city name, BBox or a Dict."
   ]
  },
  {
   "cell_type": "code",
   "execution_count": null,
   "id": "1aad1438-5eda-4a00-8ed9-2d6f742d0784",
   "metadata": {},
   "outputs": [],
   "source": [
    "# I'd like to see the street networks in Dublin's city centre, so I've chosen a one_mile range from the Ha'Penny bridge. \n",
    "import osmnx as ox\n",
    "dublin_city_centre = (53.346400, -6.263143)\n",
    "one_mile = 1609.34  # meters\n",
    "G_dub = ox.graph_from_point(dublin_city_centre, dist=one_mile, network_type=\"drive\") \n",
    "fig, ax = ox.plot_graph(G_dub, node_size=0)"
   ]
  },
  {
   "cell_type": "code",
   "execution_count": null,
   "id": "c34ee113-7037-440e-8292-6dd19f34f1a6",
   "metadata": {},
   "outputs": [],
   "source": [
    "# Conversion to a gdf\n",
    "import osmnx as ox\n",
    "import warnings\n",
    "warnings.simplefilter('ignore', DeprecationWarning)\n",
    "\n",
    "# Using graph to gdfs\n",
    "gdf_nodes, gdf_edges = ox.graph_to_gdfs(G_dub)\n",
    "# Now there is a geodataframe (G_dub) that has the edges and the nodes. "
   ]
  },
  {
   "cell_type": "markdown",
   "id": "46dd07ee-801e-4033-9bd4-823f7f2626b1",
   "metadata": {},
   "source": [
    "## 2. Calculating Basic Statistics \n",
    "Includes number of nodes, edges, average node degree, and so on. "
   ]
  },
  {
   "cell_type": "code",
   "execution_count": null,
   "id": "5d9644e3-cdb0-44ad-9e8c-866f5dc689c7",
   "metadata": {},
   "outputs": [],
   "source": [
    "# Finding the area in meters of the map \n",
    "warnings.filterwarnings('ignore')\n",
    "G_dub_proj = ox.project_graph(G_dub)\n",
    "nodes_proj = ox.graph_to_gdfs(G_dub_proj, edges=False)\n",
    "graph_area_m = nodes_proj.unary_union.convex_hull.area\n",
    "graph_area_m"
   ]
  },
  {
   "cell_type": "code",
   "execution_count": null,
   "id": "5b1fdbed-ac1e-4c8b-9929-3541b570e7da",
   "metadata": {},
   "outputs": [],
   "source": [
    "# Basic statistics of the map \n",
    "ox.basic_stats(G_dub_proj, area=graph_area_m, clean_int_tol=15)"
   ]
  },
  {
   "cell_type": "code",
   "execution_count": null,
   "id": "2df67620-046a-455e-aee5-e95126fc01eb",
   "metadata": {},
   "outputs": [],
   "source": [
    "# Here, I can use .edges/.nodes and len() to print the number of nodes and edges; this is already included above with n and m, but this will make it extra clear. \n",
    "print(len(list(G_dub.edges)))\n",
    "print(len(list(G_dub.nodes)))"
   ]
  },
  {
   "cell_type": "markdown",
   "id": "040c161d-e39e-48c8-9cb6-1c0aeb582676",
   "metadata": {},
   "source": [
    "## 3. Plotting the Street Network \n",
    "Use OSMnx to plot the street network. Customize the plot to make it visually appealing, including node size, edge color. \n",
    "https://osmnx.readthedocs.io/en/stable/user-reference.html#module-osmnx.plot "
   ]
  },
  {
   "cell_type": "code",
   "execution_count": null,
   "id": "205515d4-f182-485a-ba5a-23f1c66cd774",
   "metadata": {},
   "outputs": [],
   "source": [
    "# Customizing the plot using matplotlib\n",
    "fig, ax = ox.plot_graph(G_dub,\n",
    "                         figsize=(10, 10),  # Adjusting figure size \n",
    "                         node_size=2,  # Increased the node size to 2 \n",
    "                         edge_color=\"red\",  # Made all the edges red for contrast\n",
    "                         edge_linewidth=0.5,  # Made all the edges 0.5 thickness \n",
    "                         show=False)  # I'd like to add a title later. \n",
    "\n",
    "plt.title(\"Street Network around Ha'Penny Bridge, Dublin Within One Mile\")  # Adding a title\n",
    "\n",
    "plt.show()  # Displaying the plot"
   ]
  },
  {
   "cell_type": "markdown",
   "id": "379942fb-c52c-4736-a583-88eb597ca6ec",
   "metadata": {},
   "source": [
    "## 4. Shortest Route \n",
    "Utilize the routing capabilities of OSMnx to find the shortest path between two points in the street network. Plot the route on top of the street network.\n",
    "\n",
    "\n",
    "From a visit to Dublin, I'd like to know the shortest route to take from the national gallery of Ireland and the entrance to a park called Croppy Acre. I found these coordinates using bbox. \n",
    "1. Coordinates for National Gallery (-6.252697,53.340813) \n",
    "2. Coordinates for Croppy Acre Park (-6.285219,53.347810)"
   ]
  },
  {
   "cell_type": "code",
   "execution_count": null,
   "id": "c12aebfc-2346-4873-b469-f7fe4e348113",
   "metadata": {},
   "outputs": [],
   "source": [
    "# Using add_edge_speeds and travel times\n",
    "G_dub = ox.speed.add_edge_speeds(G_dub)\n",
    "G_dub = ox.speed.add_edge_travel_times(G_dub)"
   ]
  },
  {
   "cell_type": "code",
   "execution_count": null,
   "id": "3d55bcd7-146c-4a61-ba5c-7626f5ac0ac7",
   "metadata": {},
   "outputs": [],
   "source": [
    "# getting the nearest network nodes to two lat/lng points with the distance module\n",
    "orig = ox.distance.nearest_nodes(G_dub, X=-6.252697, Y=53.340813) # National Gallery \n",
    "dest = ox.distance.nearest_nodes(G_dub, X=-6.285219, Y=53.347810) # Croppy Acre Park"
   ]
  },
  {
   "cell_type": "code",
   "execution_count": null,
   "id": "4acb39ac-73eb-4be7-8748-81d7eed3329f",
   "metadata": {},
   "outputs": [],
   "source": [
    "# finding the shortest path between nodes, minimizing travel time, then plotting it\n",
    "route = ox.shortest_path(G_dub, orig, dest, weight=\"travel_time\")\n",
    "fig, ax = ox.plot_graph_route(G_dub, route, node_size=0)"
   ]
  },
  {
   "cell_type": "markdown",
   "id": "88934fdc-bf9e-4b5c-8f6c-92256f415530",
   "metadata": {},
   "source": [
    "## 5. Centrality Measures\n",
    "Calculate the centrality measures (e.g., degree centrality and betweenness_centrality) for nodes in the street network."
   ]
  },
  {
   "cell_type": "markdown",
   "id": "9b7de802-90e8-4770-8d96-7af5055cb3f4",
   "metadata": {},
   "source": [
    "### 5.1 Visualising Closeness Centrality "
   ]
  },
  {
   "cell_type": "code",
   "execution_count": null,
   "id": "1cd63e0a-8866-432a-92f8-9a252874976f",
   "metadata": {},
   "outputs": [],
   "source": [
    "# converting the graph to line graph so edges become nodes and vice versa\n",
    "edge_centrality = nx.closeness_centrality(nx.line_graph(G_dub))\n",
    "nx.set_edge_attributes(G_dub, edge_centrality, \"edge_centrality\")"
   ]
  },
  {
   "cell_type": "code",
   "execution_count": null,
   "id": "1ae7c43c-fb77-4c52-a5ca-2ef15c5d5df0",
   "metadata": {},
   "outputs": [],
   "source": [
    "# coloring the edges in original graph with closeness centralities from line graph\n",
    "ec = ox.plot.get_edge_colors_by_attr(G_dub, \"edge_centrality\", cmap=\"inferno\")\n",
    "fig, ax = ox.plot_graph(G_dub, edge_color=ec, edge_linewidth=2, node_size=0)"
   ]
  },
  {
   "cell_type": "markdown",
   "id": "31eaaa29-5645-4b93-ad2b-c2e604976dff",
   "metadata": {},
   "source": [
    "### 5.2 Calculating Betweenness Centrality "
   ]
  },
  {
   "cell_type": "code",
   "execution_count": null,
   "id": "dd48db40-e5bc-4753-86ae-3717b19d42df",
   "metadata": {},
   "outputs": [],
   "source": [
    "import networkx as nx\n",
    "import matplotlib.pyplot as plt\n",
    "\n",
    "# These lines here calculate the betweenness centrality for all the nodes in \"G_dub\" and stores them in a dictionary (called betweenness list)\n",
    "betweenness_centrality = nx.betweenness_centrality(G_dub)\n",
    "\n",
    "# Extracting betweenness_centrality values as a list\n",
    "betweenness_list = list(betweenness_centrality.values())\n",
    "\n",
    "# Print the betweenness centrality list\n",
    "#print(betweenness_list) # This outcome is quite long, as a note, so feel free to remove the hashtag if you wish. "
   ]
  },
  {
   "cell_type": "markdown",
   "id": "6cf881f0-6999-4aa8-8bec-c5c82a675144",
   "metadata": {},
   "source": [
    "### 5.3 Visualising Betweenness Centrality "
   ]
  },
  {
   "cell_type": "code",
   "execution_count": null,
   "id": "35908ab7-ae53-4347-8818-98c14ecc3e5c",
   "metadata": {},
   "outputs": [],
   "source": [
    "# converting the graph to line graph so edges become nodes and vice versa\n",
    "betweenness_centrality = nx.betweenness_centrality(nx.line_graph(G_dub))\n",
    "nx.set_edge_attributes(G_dub, betweenness_centrality, \"betweenness_centrality\")\n",
    "# coloring the edges in original graph with betweenness centralities from line graph\n",
    "ec = ox.plot.get_edge_colors_by_attr(G_dub, \"betweenness_centrality\", cmap=\"inferno\")\n",
    "fig, ax = ox.plot_graph(G_dub, edge_color=ec, edge_linewidth=2, node_size=0)"
   ]
  },
  {
   "cell_type": "markdown",
   "id": "6b2018b2-2261-4072-aa00-f7a8cb3225b8",
   "metadata": {},
   "source": [
    "### 5.4 Calculating Degree Centrality"
   ]
  },
  {
   "cell_type": "code",
   "execution_count": null,
   "id": "2c4d2a63-e436-43ff-a753-4dd20dddafc7",
   "metadata": {
    "scrolled": true
   },
   "outputs": [],
   "source": [
    "import networkx as nx\n",
    "import matplotlib.pyplot as plt\n",
    "\n",
    "# This line her|e calculates the degree centrality for all the nodes in \"G_dub\" and stores them in a dictionary (called degree-centrality)\n",
    "degree_centrality = nx.degree_centrality(G_dub)\n",
    "\n",
    "# Extracting degree centrality values as a list\n",
    "centrality_list = list(degree_centrality.values())\n",
    "\n",
    "# Print the degree centrality list\n",
    "print(centrality_list) # This outcome is quite long, as a note. "
   ]
  },
  {
   "cell_type": "markdown",
   "id": "97eb5192-ad25-4d41-9335-a6856ab474ee",
   "metadata": {},
   "source": [
    "### 5.5 Visualising Degree Centrality"
   ]
  },
  {
   "cell_type": "code",
   "execution_count": null,
   "id": "3a2447c6-66ee-4274-955e-d147f77f7832",
   "metadata": {},
   "outputs": [],
   "source": [
    "# converting the graph to line graph so edges become nodes and vice versa\n",
    "degree_centrality = nx.degree_centrality(nx.line_graph(G_dub))\n",
    "nx.set_edge_attributes(G_dub, degree_centrality, \"degree_centrality\")\n",
    "# coloring the edges in original graph with degree centralities from line graph\n",
    "ec = ox.plot.get_edge_colors_by_attr(G_dub, \"degree_centrality\", cmap=\"inferno\")\n",
    "fig, ax = ox.plot_graph(G_dub, edge_color=ec, edge_linewidth=2, node_size=0)"
   ]
  },
  {
   "cell_type": "markdown",
   "id": "a154e4d8-36be-4041-8e6d-db940ebbfcb0",
   "metadata": {},
   "source": [
    "## 6. Figure_ground \n",
    " Create the figure-ground from the selected city"
   ]
  },
  {
   "cell_type": "code",
   "execution_count": null,
   "id": "4724b0ae-6615-4dbe-9a5a-c36a528098a0",
   "metadata": {},
   "outputs": [],
   "source": [
    "from IPython.display import Image\n",
    "# configure the inline image display\n",
    "img_folder = \"images\"\n",
    "extension = \"png\"\n",
    "size = 300\n",
    "dpi = 40"
   ]
  },
  {
   "cell_type": "code",
   "execution_count": null,
   "id": "65ed1a11-44db-4ae7-98f7-41454721addf",
   "metadata": {},
   "outputs": [],
   "source": [
    "street_widths = { # Assigning the widths of edges based on attribute \n",
    "    \"footway\": 0.5,\n",
    "    \"steps\": 0.5,\n",
    "    \"pedestrian\": 0.5,\n",
    "    \"path\": 0.5,\n",
    "    \"track\": 0.5,\n",
    "    \"service\": 2,\n",
    "    \"residential\": 3,\n",
    "    \"primary\": 5,\n",
    "    \"motorway\": 6,\n",
    "}\n",
    "place = \"dublin\"\n",
    "point = (53.346400, -6.263143)\n",
    "fp = f\"./{img_folder}/{place}.{extension}\"\n",
    "fig, ax = ox.plot_figure_ground(\n",
    "    point=point,\n",
    "    filepath=fp,\n",
    "    network_type=\"all\",\n",
    "    street_widths=street_widths,\n",
    "    dpi=dpi,\n",
    "    save=True,\n",
    "    show=False,\n",
    "    close=True,\n",
    ")\n",
    "Image(fp, height=size, width=size)"
   ]
  },
  {
   "cell_type": "markdown",
   "id": "fbe7a4ba-f5ea-4d35-bbd0-bb1f11a706b1",
   "metadata": {},
   "source": [
    "## 7. Interactive Mapping \n",
    " Create interactive maps to plot nodes, edges, nodes+edges and one of the centrality measures."
   ]
  },
  {
   "cell_type": "markdown",
   "id": "5fefa79a-054e-48d6-b753-d0cb85750227",
   "metadata": {},
   "source": [
    "### 7.1 Interactive Mapping: Nodes "
   ]
  },
  {
   "cell_type": "code",
   "execution_count": null,
   "id": "e4298715-8f61-48d4-9f64-a4187030d678",
   "metadata": {},
   "outputs": [],
   "source": [
    "# explore graph nodes interactively, with different basemap tiles\n",
    "nodes = ox.graph_to_gdfs(G_dub, edges=False)\n",
    "nodes.explore(tiles=\"cartodbpositron\", marker_kwds={\"radius\": 8})"
   ]
  },
  {
   "cell_type": "markdown",
   "id": "5acd0406-275e-4704-bb37-64a175eb2b55",
   "metadata": {},
   "source": [
    "### 7.2 Edges "
   ]
  },
  {
   "cell_type": "code",
   "execution_count": null,
   "id": "f1108a5d-e609-48ce-8f89-b37808dd80e2",
   "metadata": {},
   "outputs": [],
   "source": [
    "# explore graph edges interactively, with a simple one-liner\n",
    "ox.graph_to_gdfs(G_dub, nodes=False).explore()"
   ]
  },
  {
   "cell_type": "markdown",
   "id": "fd40cd12-bd95-44a7-9f29-255b1375a647",
   "metadata": {},
   "source": [
    "### 7.3 Nodes and Edges "
   ]
  },
  {
   "cell_type": "code",
   "execution_count": null,
   "id": "9fffe925-5b6b-44f9-9924-b0cd47a607c8",
   "metadata": {},
   "outputs": [],
   "source": [
    "# explore nodes and edges together in a single map\n",
    "nodes, edges = ox.graph_to_gdfs(G_dub)\n",
    "m = edges.explore(color=\"skyblue\", tiles=\"cartodbdarkmatter\")\n",
    "nodes.explore(m=m, color=\"yellow\", marker_kwds={\"radius\": 6})"
   ]
  },
  {
   "cell_type": "markdown",
   "id": "cf0c7347-ea11-43cb-8ff6-0c35ea8aa7b8",
   "metadata": {},
   "source": [
    "### 7.4 Betweenness Centrality Measure "
   ]
  },
  {
   "cell_type": "code",
   "execution_count": null,
   "id": "f0bf526f-c42e-4e5e-a3d7-06d70468def7",
   "metadata": {},
   "outputs": [],
   "source": [
    "# explore graph nodes interactively, colored by betweenness centrality\n",
    "nx.set_node_attributes(G_dub, nx.betweenness_centrality(G_dub, weight=\"length\"), name=\"bc\")\n",
    "nodes = ox.graph_to_gdfs(G_dub, edges=False)\n",
    "nodes.explore(tiles=\"cartodbdarkmatter\", column=\"bc\", marker_kwds={\"radius\": 8})"
   ]
  },
  {
   "cell_type": "markdown",
   "id": "225b31bd-e14d-469e-ab07-3653a2322250",
   "metadata": {},
   "source": [
    "This is interesting; it seems as though the nodes with the highest betweenness centrality are near the bridges; this makes sense because these are the only points where one can cross te river that flows through Dublin. The slightly more residential areas have a lower betweenness centrality."
   ]
  },
  {
   "cell_type": "markdown",
   "id": "2e61e7df-86c4-4f23-bae9-808aae315b13",
   "metadata": {},
   "source": [
    "## 8. Exporting to a .gpkg\n",
    "Export the street network to a GeoPackage (.gpkg) file. Ensure that the exported file contains both node and edge attributes. Demonstrate that the new GeoPackage can be used and read in Python using any of the libraries we have seen in the class to create a simple and interactive map."
   ]
  },
  {
   "cell_type": "code",
   "execution_count": null,
   "id": "1701588f-ff81-4ddf-98e0-3462c4543dc5",
   "metadata": {},
   "outputs": [],
   "source": [
    "# Save graph to disk as geopackage (for GIS)\n",
    "ox.save_graph_geopackage(G_dub, filepath=\"data/dublinnetwork.gpkg\")"
   ]
  },
  {
   "cell_type": "code",
   "execution_count": null,
   "id": "5ff8f648-6cf3-4edc-98fc-5ec7cc3817a5",
   "metadata": {},
   "outputs": [],
   "source": [
    "import geopandas as gpd\n",
    "\n",
    "# Read the GeoPackage file into a GeoDataFrame\n",
    "gdf_nodes, gdf_edges = gpd.read_file(\"data/dublinnetwork.gpkg\", layer=\"nodes\"), gpd.read_file(\"data/dublinnetwork.gpkg\", layer=\"edges\")"
   ]
  },
  {
   "cell_type": "code",
   "execution_count": null,
   "id": "26cc9cf4-d9ce-4171-82e9-21857614b7ee",
   "metadata": {},
   "outputs": [],
   "source": [
    "# Mapping both the edges and the nodes into one map using .explore\n",
    "m = gdf_edges.explore(color=\"red\", tiles=\"cartodbdarkmatter\")\n",
    "gdf_nodes.explore(m=m, color=\"skyblue\", marker_kwds={\"radius\": 6})"
   ]
  },
  {
   "cell_type": "markdown",
   "id": "5d859434-a152-46f0-86ec-8c53454643a2",
   "metadata": {},
   "source": [
    "## 9. Extracting urban elements \n",
    "Finally, use OSMnx to extract other urban elements (e.g., buildings, parks) and plot them."
   ]
  },
  {
   "cell_type": "markdown",
   "id": "f2a43dbe-a69b-4994-8046-003482b85c43",
   "metadata": {},
   "source": [
    "\n",
    "Is a Python package to download, model, analyze, and visualize street networks and other geospatial features from OpenStreetMap. You can download and model walking, driving, or biking networks with a single line of code then easily analyze and visualize them. You can just as easily work with urban amenities/points of interest, building footprints, transit stops, elevation data, street orientations, speed/travel time, and routing.[1]\n",
    "get all building footprints in some neighborhood\n",
    "[1]:https://geoffboeing.com/2016/11/osmnx-python-street-networks/"
   ]
  },
  {
   "cell_type": "code",
   "execution_count": null,
   "id": "448e6e34-c262-4076-9c34-a061f7e33d01",
   "metadata": {},
   "outputs": [],
   "source": [
    "# Let's try for the buildings \n",
    "import osmnx as ox\n",
    "import geopandas as gpd\n",
    "import matplotlib.pyplot as plt\n",
    "\n",
    "# Defining the point of interest (ie ha'penny bridge)\n",
    "dublin_city_centre = (53.346400, -6.263143)\n",
    "one_mile = 1609.34  # meters\n",
    "\n",
    "# Extracting the building footprints within the one mile location of the ha'penny bridge\n",
    "building_footprints = ox.geometries_from_point(\n",
    "    dublin_city_centre,\n",
    "    tags={\"building\": True},\n",
    "    dist=one_mile,\n",
    ")\n",
    "\n",
    "# Plotting the road network graph\n",
    "G_dub = ox.graph_from_point(dublin_city_centre, dist=one_mile, network_type=\"drive\")\n",
    "fig, ax = ox.plot_graph(G_dub, node_size=0, show=False)\n",
    "\n",
    "# Plotting the building footprints using .plot\n",
    "building_footprints.plot(ax=ax, facecolor='yellow', alpha=1) # Changed the color and the opacity\n",
    "\n",
    "# Show the plot\n",
    "plt.show()"
   ]
  },
  {
   "cell_type": "markdown",
   "id": "00e4487e-a567-4a86-a462-1710715585f8",
   "metadata": {},
   "source": [
    "# Lab Workbook No 6: Geodemographics"
   ]
  },
  {
   "cell_type": "markdown",
   "id": "25b43d1c-7438-4278-be77-7ce132ee69cb",
   "metadata": {},
   "source": [
    "## Challenge 1: Geodemographic Classification\n",
    "\n",
    "In this challenge, you will replicate the process of creating a geodemographic classification using the k-means clustering algorithm. Please select any city in the UK except London, Liverpool, or Glasgow. The main goal is to generate a meaningful and informative classification that captures the diversity of areas in your dataset using the census data ( For England, you can try to use the 2021 or 2011 census, and for Scotland, you need to use the 2011 census data) \n",
    "\n",
    "1. Define the main goal for the geodemographic classification (marketing, retail and service planning). \n",
    "2. Look for census data from the selected city for which you would like to generate the geodemographic classification.\n",
    "3. The census data at the Output Area OA level. Select multiple topics of at least four topics (socio-demographics, economics, health, and so on). Describe your topic selection accordingly based on the goal of your geodemographic classification. For example, if your geodemographics are related to marketing, Economic variables might be the appropriate selection. \n",
    "4. Identify the variables that will be crucial for effectively segmenting neighbourhoods. Evaluate how this choice may impact the classification results, including a DEA analysis.\n",
    "5. Prepare, adjust or clean the dataset addressing any missing values or outliers that could distort the clustering results.\n",
    "6. Include standardisation between areas and variables. Make an appropriate analysis and adjust the variable selection accordingly for any multicollinearity.\n",
    "7. Utilize the k-means clustering algorithm to create a classification based on the selected variables.\n",
    "8. Define the optimum number of clusters (i.e., using the Elblow method). Experiment with different values of k.\n",
    "9. Evaluate your cluster groups (e.g., using PCA) and interpret your cluster centres. Describe your results and repeat the process to adjust the variable selection and cluster groups to provide more meaningful results for your geodemographic goal. Interpret the characteristics of each cluster. What demographic patterns or similarities are prevalent within each group?\n",
    "10. Map the final cluster groups\n",
    "11. Finish the analysis by naming the final clusters and plotting a final map that includes the census values and the provided names.\n",
    "12. Finally, acknowledge the subjective nature of classification and make analytical decisions to produce an optimum classification for your specific purpose. Reflect on the challenges and insights gained during the classification process. Ensure you document your analytical decisions and the rationale behind any important decision. Once your geodemographics are constructed, describe the potential use cases for the geodemographic classification you have built based on your initial goal"
   ]
  },
  {
   "cell_type": "markdown",
   "id": "3262a3f3-f79e-4407-8ebe-59385064c65a",
   "metadata": {},
   "source": [
    "### 1. Defining goals"
   ]
  },
  {
   "cell_type": "markdown",
   "id": "dc2bdac9-2c52-46a6-8786-95de4e4f0de5",
   "metadata": {},
   "source": [
    "A potential use case for geodemographic classification is advertising. Businesses can target both advertising locations and formats when they can identify specific segments of the population that meet certain criteria. For example, a brand advertising cologne might be interesting in finding out where there is a high concentration of young people, particularly men of a certain socio-economic status. Therefore, some key considerations will be age, sex, the type of households people are living in, availability of a car, health, and language, for example. This will inform the wording, placement, and type of product advertised to Birmingham's population. \n",
    "\n",
    "In this hypothetical scenario, I will analyse the geodemographics for Birmingham, which is Britain's second largest city. "
   ]
  },
  {
   "cell_type": "markdown",
   "id": "577c88a8-d71e-4936-a5bf-6372c53e7825",
   "metadata": {},
   "source": [
    "### 2. Census Data Finding \n",
    "Look for census data from the selected city for which you would like to generate the geodemographic classification."
   ]
  },
  {
   "cell_type": "markdown",
   "id": "05c19866-1fbf-4346-a18c-99e58f0c86d1",
   "metadata": {},
   "source": [
    "I found bulk census data for Output Areas in England based on the 2021 census from [NOMIS](https://www.nomisweb.co.uk/sources/census_2021_bulk). I then downloaded the data for the variables below as csv files. \n",
    "\n",
    "Additionally, I found the output area classification shapefile for the entire UK from the following source: https://data.cdrc.ac.uk/dataset/output-area-classification-2011#data-and-resources. I also used local planning authority boundaries from a previously used shapefile from Lab No 2. "
   ]
  },
  {
   "cell_type": "markdown",
   "id": "220629e2-f388-42a3-964e-7a35bee9eeb5",
   "metadata": {},
   "source": [
    "### 3. Selecting Topics \n",
    "The census data at the Output Area OA level. Select multiple topics of at least four topics (socio-demographics, economics, health, and so on). Describe your topic selection accordingly based on the goal of your geodemographic classification. For example, if your geodemographics are related to marketing, Economic variables might be the appropriate selection."
   ]
  },
  {
   "cell_type": "markdown",
   "id": "f4ca28aa-2c0e-4829-b85a-961d173aca2f",
   "metadata": {},
   "source": [
    "* TS003\tHousehold composition\n",
    "* TS029\tProficiency in english\n",
    "* TS008\tSex\n",
    "* TS030 Religion\n",
    "* TS063\tOccupation\n",
    "* TS045 Car or van availability\n",
    "* TS046\tCentral heating\n",
    "* TS067\tHighest level of qualification\n",
    "* TS037\tGeneral health\n",
    "* TS066\tEconomic activity status\n",
    "* TS007A Age by five-year age bands (not reproduced for output area by single year bands)\n",
    "* TS002\tLegal partnership status\n",
    "* TS025\tHousehold language\n",
    "\n",
    "As a note, some relevant information such as age by single year bands and participation in the UK military were not available for output areas, which reflects some challenges of using census data. A way around this is to apply that data for a higher level of spatial classification, but the level of depth and insight is diminished as result. Therefore, I decided to leave those factors out of the analysis or replaced them with proxies (such as age by five year bands). "
   ]
  },
  {
   "cell_type": "code",
   "execution_count": null,
   "id": "a891384e-d988-4fd8-9656-55f193599737",
   "metadata": {},
   "outputs": [],
   "source": [
    "# Merging the CSV files\n",
    "import pandas as pd\n",
    "import os\n",
    "\n",
    "csv_directory = \"data\"\n",
    "\n",
    "# We need a list of all CSV files in the folder\n",
    "csv_files = [file for file in os.listdir(csv_directory) if file.endswith(\".csv\")]\n",
    "\n",
    "# An empty DataFrame to store the merged data\n",
    "merged_data = pd.DataFrame()\n",
    "\n",
    "# Loop through each CSV file\n",
    "for csv_file in csv_files:\n",
    "    csv_path = os.path.join(csv_directory, csv_file) # We create a consistent path\n",
    "    df_csv = pd.read_csv(csv_path, low_memory=False) #read each file\n",
    "    # Concatenate/Merge all columns, there is a pitfall here, you will get a duplicate oa_code from all csv files.\n",
    "    merged_data = pd.concat([merged_data, df_csv], axis=1)\n",
    "\n",
    "# Save the merged dataset. You might want to do some pre-processing.\n",
    "merged_data.to_csv(\"data/merged_census_data.csv\", index=False)"
   ]
  },
  {
   "cell_type": "code",
   "execution_count": null,
   "id": "3bf39abe-be59-4555-86a5-21c56c13f815",
   "metadata": {},
   "outputs": [],
   "source": [
    "# Defining the bounds of Birmingham \n",
    "import geopandas as gpd\n",
    "UK_LPA = \"data/LAP_2021/LPA_MAY_2021_UK_BUC_V2.shp\" # This is the shapefile for all the local planning authorities in the UK\n",
    "gdf_UK_LPA = gpd.read_file(UK_LPA) # Reading it into a geodataframe from the shapefile\n",
    "birmingham_lpa_gdf = gdf_UK_LPA[gdf_UK_LPA.LPA21NM == \"Birmingham LPA\"] # This filters the LPAs by name, specifically Birmingham. \n",
    "\n",
    "# Defining the output areas in UK \n",
    "UK_OA = \"data/infuse_oa_lyr_2011_clipped/infuse_oa_lyr_2011_clipped.shp\" # This is the shapefile for all the output areas in the UK \n",
    "UK_OA = gpd.read_file(UK_OA) # Again, conversion to a geodataframe "
   ]
  },
  {
   "cell_type": "code",
   "execution_count": null,
   "id": "704b4fcc-1cdf-48f5-b0d3-c57660e0ce3f",
   "metadata": {
    "scrolled": true
   },
   "outputs": [],
   "source": [
    "# Clipping the OAs to Birmingham city using .clip \n",
    "birmingham_oa = gpd.clip(UK_OA, birmingham_lpa_gdf)"
   ]
  },
  {
   "cell_type": "code",
   "execution_count": null,
   "id": "192b1af9-68e1-4d4e-b4e6-cd56f216fbee",
   "metadata": {},
   "outputs": [],
   "source": [
    "birmingham_oa.to_file(\"data/birmingham_oa.shp\", driver='ESRI Shapefile') # Saving it as a shapefile to the folder "
   ]
  },
  {
   "cell_type": "code",
   "execution_count": null,
   "id": "d0093ded-3d2d-4d55-8f7a-655c31de4833",
   "metadata": {
    "scrolled": true
   },
   "outputs": [],
   "source": [
    "import geopandas as gpd\n",
    "birmingham_oa = \"data/birmingham_oa.shp\"\n",
    "birmingham_oa = gpd.read_file(birmingham_oa)\n",
    "birmingham_oa.explore() #E00044983 "
   ]
  },
  {
   "cell_type": "code",
   "execution_count": null,
   "id": "d5e8fec6-34b9-4342-8866-067ee9e1cef7",
   "metadata": {
    "scrolled": true
   },
   "outputs": [],
   "source": [
    "birmingham_oa.head()"
   ]
  },
  {
   "cell_type": "code",
   "execution_count": null,
   "id": "7739d125-9ab5-4269-b77d-2c87e5ba5dda",
   "metadata": {},
   "outputs": [],
   "source": [
    "import pandas as pd\n",
    "import geopandas as gpd\n",
    "\n",
    "\n",
    "birmingham_oa = \"data/birmingham_oa.shp\"\n",
    "birmingham_oa = gpd.read_file(birmingham_oa)\n",
    "\n",
    "csv_path = \"data/merged_census_data.csv\"\n",
    "csv_data = pd.read_csv(csv_path, low_memory=False)\n",
    "\n",
    "# Merge the GeoDataFrame with the DataFrame based on the oa_code\n",
    "merged_data = birmingham_oa.merge(csv_data, left_on='geo_code', right_on='geography code', how='left')\n",
    "\n",
    "# You could save the merged data to a new shapefile, but I will skip this now\n",
    "# but you could do it, in case you need just to read the data you have merged., and avoid\n",
    "# the previous cell\n",
    "# merged_data.to_file('data_lab6/glasgow_census_data.shp', index=False)"
   ]
  },
  {
   "cell_type": "code",
   "execution_count": null,
   "id": "90645349-f046-4fbd-8c81-ef7fb42975da",
   "metadata": {
    "scrolled": true
   },
   "outputs": [],
   "source": [
    "list(merged_data.columns)"
   ]
  },
  {
   "cell_type": "code",
   "execution_count": null,
   "id": "0465d6b3-c5e4-4b63-8793-135cabc3add2",
   "metadata": {},
   "outputs": [],
   "source": [
    "merged_data.shape"
   ]
  },
  {
   "cell_type": "markdown",
   "id": "2c1f0d55-a4fb-417d-b508-4f3e5df72ece",
   "metadata": {},
   "source": [
    "### 4. Identifying variables \n",
    "Identify the variables that will be crucial for effectively segmenting neighbourhoods. Evaluate how this choice may impact the classification results, including a DEA analysis.\n",
    "A basic assumption is that for an advertising agency, there main characteristics for a product related to cologne or hygiene will be dependent on factors such as ethnicity, language, sex, age, employment (as a proxy for income status and type), and religion. At this point, I will conduct summary analyses and a DEA analysis to evaluate how these variables will affect the classification results. "
   ]
  },
  {
   "cell_type": "markdown",
   "id": "833a0b92-aed7-42cb-97f3-1fa571ffee09",
   "metadata": {},
   "source": [
    "#### 4.1 Summary Analysis \n",
    "The summary analysis will include some important variables, such as unemployment numbers, religion, and proficiency in English. "
   ]
  },
  {
   "cell_type": "code",
   "execution_count": null,
   "id": "bf18f405-11cf-4faa-b548-38e75d161ba5",
   "metadata": {},
   "outputs": [],
   "source": [
    "merged_data['Economic activity status: Economically inactive.1'].describe()"
   ]
  },
  {
   "cell_type": "code",
   "execution_count": null,
   "id": "01181dcd-2bd6-41ac-8564-900bbe8606ef",
   "metadata": {
    "scrolled": true
   },
   "outputs": [],
   "source": [
    "merged_data['Religion: Christian'].describe()"
   ]
  },
  {
   "cell_type": "markdown",
   "id": "88ab7e84-5a60-48b4-8c24-f0b845385d5c",
   "metadata": {},
   "source": [
    "This means that the average number of Christian adherents is 120 per output area of Birmingham. While this doesn't say anything about where they are spatially distributed, it does say that there is a wide range in number of Christian adherents, ranging from 3 to 388. "
   ]
  },
  {
   "cell_type": "code",
   "execution_count": null,
   "id": "c7325163-417e-4548-837e-612805398ba8",
   "metadata": {},
   "outputs": [],
   "source": [
    "merged_data['Proficiency in English language: Main language is not English (English or Welsh in Wales): Cannot speak English.1'].describe()\n",
    "# Looks like there are very few numbers of people who cannot speak English at all; however, an index that combined the \n",
    "# characteristics of no english, limited english, and intermediate english might be a insightful method to analyse this variable.  "
   ]
  },
  {
   "cell_type": "code",
   "execution_count": null,
   "id": "eefb603e-27a0-49d8-bab7-452f716b8f5f",
   "metadata": {},
   "outputs": [],
   "source": [
    "merged_data['Household language (English and Welsh): No people in household have English in England, or English or Welsh in Wales as a main language.1'].describe()\n",
    "# This is English proficiency at the household level. If there are high numbers of households where no one speaks english, but low numbers of\n",
    "# non-english proficiency, then this suggests that non-english speaking households are far more likely to have all members that do not \n",
    "# speak english. "
   ]
  },
  {
   "cell_type": "markdown",
   "id": "6cac93c2-c61c-440b-b751-35eb9f3a11e8",
   "metadata": {},
   "source": [
    "#### 4.2 DEA Analysis"
   ]
  },
  {
   "cell_type": "code",
   "execution_count": null,
   "id": "f8da90bf-6475-49f4-8b50-4e2d086319e1",
   "metadata": {},
   "outputs": [],
   "source": [
    "import seaborn as sns\n",
    "import matplotlib.pyplot as plt\n",
    "\n",
    "attributes_to_plot = ['Age: Aged 4 years and under.1',\n",
    "                      'Economic activity status: Economically active (excluding full-time students):In employment:Employee.1',\n",
    "                      'General health: Very good health.1',\n",
    "                      'Religion: Christian.1']\n",
    "\n",
    "plt.figure(figsize=(12, 8))\n",
    "\n",
    "for i, attribute in enumerate(attributes_to_plot, 1):\n",
    "    plt.subplot(2, 2, i)\n",
    "    sns.violinplot(x=merged_data[attribute])\n",
    "    plt.title(attribute)\n",
    "    plt.xlabel('')\n",
    "    plt.ylabel('')\n",
    "\n",
    "plt.tight_layout()\n",
    "plt.show()"
   ]
  },
  {
   "cell_type": "code",
   "execution_count": null,
   "id": "96c97129-ab0e-47a9-9123-48949fa4c00a",
   "metadata": {},
   "outputs": [],
   "source": [
    "import matplotlib.pyplot as plt\n",
    "\n",
    "attributes_to_plot = ['Age: Aged 4 years and under.1',\n",
    "                      'Economic activity status: Economically active (excluding full-time students):In employment:Employee.1',\n",
    "                      'Household language (English and Welsh): No people in household have English in England, or English or Welsh in Wales as a main language.1',\n",
    "                      'Religion: Christian.1']\n",
    "\n",
    "plt.figure(figsize=(12, 8))\n",
    "\n",
    "for i, attribute in enumerate(attributes_to_plot, 1):\n",
    "    plt.subplot(2, 2, i)\n",
    "    sns.histplot(merged_data[attribute].astype(str), kde=True)\n",
    "    plt.title(attribute)\n",
    "\n",
    "plt.tight_layout()\n",
    "plt.show()"
   ]
  },
  {
   "cell_type": "markdown",
   "id": "693e3292-f345-4758-9c92-d1e1851fc9a4",
   "metadata": {},
   "source": [
    "### 5. Adjusting and Cleaning the Dataset\n",
    "Prepare, adjust or clean the dataset addressing any missing values or outliers that could distort the clustering results."
   ]
  },
  {
   "cell_type": "markdown",
   "id": "b8f3397f-794b-457f-85b7-aa66c908a9c0",
   "metadata": {},
   "source": [
    "#### 5.1 Calculating Percentages "
   ]
  },
  {
   "cell_type": "code",
   "execution_count": null,
   "id": "9feddbd6-1823-4c30-8eba-91323a7d88be",
   "metadata": {
    "scrolled": true
   },
   "outputs": [],
   "source": [
    "list(merged_data.columns)"
   ]
  },
  {
   "cell_type": "code",
   "execution_count": null,
   "id": "a3f8969a-7863-4a4f-ac6a-63165284c9e0",
   "metadata": {},
   "outputs": [],
   "source": [
    "#merged_data.head() #Proportion data table \n",
    "merged_data[[ 'Age: Total',\n",
    " 'Age: Aged 4 years and under',\n",
    " 'Age: Aged 5 to 9 years',\n",
    " 'Age: Aged 10 to 14 years',\n",
    " 'Age: Aged 15 to 19 years',\n",
    " 'Age: Aged 20 to 24 years',\n",
    " 'Age: Aged 25 to 29 years',\n",
    " 'Age: Aged 30 to 34 years',\n",
    " 'Age: Aged 35 to 39 years',\n",
    " 'Age: Aged 40 to 44 years',\n",
    " 'Age: Aged 45 to 49 years',\n",
    " 'Age: Aged 50 to 54 years',\n",
    " 'Age: Aged 55 to 59 years',\n",
    " 'Age: Aged 60 to 64 years',\n",
    " 'Age: Aged 65 to 69 years',\n",
    " 'Age: Aged 70 to 74 years',\n",
    " 'Age: Aged 75 to 79 years',\n",
    " 'Age: Aged 80 to 84 years',\n",
    " 'Age: Aged 85 years and over',]].head()"
   ]
  },
  {
   "cell_type": "markdown",
   "id": "6c0c9d62-88c5-4d3e-90cb-a213c3d338e4",
   "metadata": {},
   "source": [
    "This suggests that the total number of residents is given by the Age: Total column, which is then subdivided by 5 year age bands. "
   ]
  },
  {
   "cell_type": "code",
   "execution_count": null,
   "id": "f2b7fa9e-1623-454f-8d9a-cd26d0ac8fe6",
   "metadata": {
    "scrolled": true
   },
   "outputs": [],
   "source": [
    "list(merged_data.columns)"
   ]
  },
  {
   "cell_type": "code",
   "execution_count": null,
   "id": "4cc2cb3a-1112-4bd1-810b-6a18d3397fbe",
   "metadata": {},
   "outputs": [],
   "source": [
    "def calculate_percentages(dataframe, total_columns, value_columns):\n",
    "\n",
    "    result_df = pd.DataFrame()\n",
    "\n",
    "    for total_col, value_col in zip(total_columns, value_columns):\n",
    "        percentage_col_name = f\"{value_col}_percentage\"\n",
    "\n",
    "        if total_col not in dataframe.columns:\n",
    "            raise ValueError(f\"Total column '{total_col}' not found in the DataFrame.\")\n",
    "        # this is a function that forces them to be a numeric or NaN value\n",
    "        dataframe[value_col] = pd.to_numeric(dataframe[value_col], errors='coerce')\n",
    "        dataframe[total_col] = pd.to_numeric(dataframe[total_col], errors='coerce')\n",
    "        \n",
    "        result_df[percentage_col_name] = (dataframe[value_col] / dataframe[total_col]) * 100\n",
    "\n",
    "    return result_df\n",
    "\n",
    "# List of the corresponding totals.\n",
    "total_cols = ['Age: Total',\n",
    "              'Age: Total',\n",
    "              'Age: Total',\n",
    "              'Age: Total',\n",
    "              \n",
    "              'Religion: Total: All usual residents',\n",
    "              'Religion: Total: All usual residents',\n",
    "              \n",
    "              'Sex: All persons; measures: Value',\n",
    "              'Sex: All persons; measures: Value',\n",
    "              'Number of cars or vans: Total: All households',\n",
    "              'Number of cars or vans: Total: All households',\n",
    "              'Number of cars or vans: Total: All households',\n",
    "            \n",
    "              'Marital and civil partnership status: Total; measures: Value',\n",
    "              'Marital and civil partnership status: Total; measures: Value',\n",
    "             \n",
    "             \n",
    "              'Proficiency in English language: Total: All usual residents aged 3 years and over',\n",
    "              'Proficiency in English language: Total: All usual residents aged 3 years and over',\n",
    "              'Proficiency in English language: Total: All usual residents aged 3 years and over',\n",
    "\n",
    "              'Economic activity status: Total: All usual residents aged 16 years and over',\n",
    "              'Economic activity status: Total: All usual residents aged 16 years and over',\n",
    "              'Economic activity status: Total: All usual residents aged 16 years and over',\n",
    "              'Economic activity status: Total: All usual residents aged 16 years and over',\n",
    "\n",
    "              'Highest level of qualification: Total: All usual residents aged 16 years and over',\n",
    "              'Highest level of qualification: Total: All usual residents aged 16 years and over',\n",
    "            \n",
    "             ]\n",
    "value_cols = ['Age: Aged 35 to 39 years',\n",
    "              'Age: Aged 20 to 24 years',\n",
    "              'Age: Aged 25 to 29 years',\n",
    "              'Age: Aged 30 to 34 years',\n",
    "              'Religion: No religion',\n",
    "              'Religion: Christian',\n",
    "             \n",
    "              'Sex: Female; measures: Value',\n",
    "              'Sex: Male; measures: Value',\n",
    "              'Number of cars or vans: No cars or vans in household',\n",
    "              'Number of cars or vans: 1 car or van in household',\n",
    "              'Number of cars or vans: 2 cars or vans in household',\n",
    "             \n",
    "              'Marital and civil partnership status: Never married and never registered a civil partnership; measures: Value',\n",
    "              'Marital and civil partnership status: Married or in a registered civil partnership: Married; measures: Value',\n",
    "              'Proficiency in English language: Main language is English (English or Welsh in Wales)',\n",
    "              'Proficiency in English language: Main language is not English (English or Welsh in Wales)',\n",
    "              'Proficiency in English language: Main language is not English (English or Welsh in Wales): Cannot speak English well',\n",
    "             \n",
    "              'Economic activity status: Economically active and a full-time student:In employment',\n",
    "              'Economic activity status: Economically active and a full-time student: Unemployed',\n",
    "              'Economic activity status: Economically active (excluding full-time students):In employment',\n",
    "               'Economic activity status: Economically active (excluding full-time students): Unemployed',\n",
    "              \n",
    "            \n",
    "              'Highest level of qualification: Level 3 qualifications',\n",
    "              'Highest level of qualification: Level 4 qualifications and above',]\n",
    "\n",
    "# Later we migth need to rename those columns., for now is ok...\n",
    "result_dataframe = calculate_percentages(merged_data, total_cols, value_cols)"
   ]
  },
  {
   "cell_type": "code",
   "execution_count": null,
   "id": "4cbbbd86-3387-44d8-88d9-5894061b3df8",
   "metadata": {
    "scrolled": true
   },
   "outputs": [],
   "source": [
    "result_dataframe.head() "
   ]
  },
  {
   "cell_type": "code",
   "execution_count": null,
   "id": "057e9838-85ad-40ab-b41c-b6b811ae22bd",
   "metadata": {},
   "outputs": [],
   "source": [
    "result_dataframe.shape # Length is correct"
   ]
  },
  {
   "cell_type": "code",
   "execution_count": null,
   "id": "c3e96a6d-ed3c-46ee-a41f-31ee69c66caf",
   "metadata": {},
   "outputs": [],
   "source": [
    "result_dataframe.columns"
   ]
  },
  {
   "cell_type": "code",
   "execution_count": null,
   "id": "338537a0-1c4c-4043-a045-26443e594f3a",
   "metadata": {
    "scrolled": true
   },
   "outputs": [],
   "source": [
    "# Concatenate the resulting tables.\n",
    "concatenated_df = pd.concat([merged_data, result_dataframe], axis=1, ignore_index=False)\n",
    "concatenated_df.head()"
   ]
  },
  {
   "cell_type": "code",
   "execution_count": null,
   "id": "304596c8-f6da-4247-8894-07609ed78cad",
   "metadata": {
    "scrolled": true
   },
   "outputs": [],
   "source": [
    "list(concatenated_df.columns)"
   ]
  },
  {
   "cell_type": "markdown",
   "id": "da8071cf-25ed-4c9a-8834-bd04bad1a5fd",
   "metadata": {},
   "source": [
    "#### 5.2 Subsetting data\n",
    "Some relevant indicators for an advertising intervention or outreach program are listed below. \n",
    "\n",
    "1. Education (for level 3 and level 4 or above) \n",
    "2. Age Range of 20 to 39\n",
    "3. Religion (Christian or Atheist) \n",
    "4. Marital status (Married or Never Married) \n",
    "5. Sex (Male/Female) \n",
    "6. Economic Status (Employment or unemplyoment, for students and non-students) \n",
    "7. Language Proficiency (whether english is a main language or not. \n",
    "8. Car Availability (by ownership)\n"
   ]
  },
  {
   "cell_type": "code",
   "execution_count": null,
   "id": "78b4487e-0aca-4a27-a038-4175ef07a896",
   "metadata": {},
   "outputs": [],
   "source": [
    "# Subsetting the attributes we need, we dont need the total for now.\n",
    "keep_cols= [\n",
    "    'geo_code',\n",
    " 'geometry',\n",
    "     'geography code',\n",
    "  'Age: Aged 35 to 39 years_percentage',\n",
    " 'Age: Aged 20 to 24 years_percentage',\n",
    " 'Age: Aged 25 to 29 years_percentage',\n",
    " 'Age: Aged 30 to 34 years_percentage',\n",
    " 'Religion: No religion_percentage',\n",
    " 'Religion: Christian_percentage',\n",
    " \n",
    " 'Sex: Female; measures: Value_percentage',\n",
    " 'Sex: Male; measures: Value_percentage',\n",
    " 'Number of cars or vans: No cars or vans in household_percentage',\n",
    " 'Number of cars or vans: 1 car or van in household_percentage',\n",
    " 'Number of cars or vans: 2 cars or vans in household_percentage',\n",
    " 'Marital and civil partnership status: Never married and never registered a civil partnership; measures: Value_percentage',\n",
    " 'Marital and civil partnership status: Married or in a registered civil partnership: Married; measures: Value_percentage',\n",
    " 'Proficiency in English language: Main language is English (English or Welsh in Wales)_percentage',\n",
    " 'Proficiency in English language: Main language is not English (English or Welsh in Wales)_percentage',\n",
    " 'Proficiency in English language: Main language is not English (English or Welsh in Wales): Cannot speak English well_percentage',\n",
    " 'Economic activity status: Economically active and a full-time student:In employment_percentage',\n",
    " 'Economic activity status: Economically active and a full-time student: Unemployed_percentage',\n",
    " 'Economic activity status: Economically active (excluding full-time students):In employment_percentage',\n",
    " 'Economic activity status: Economically active (excluding full-time students): Unemployed_percentage',\n",
    " 'Highest level of qualification: Level 3 qualifications_percentage',\n",
    " 'Highest level of qualification: Level 4 qualifications and above_percentage']\n",
    "\n",
    "birmingham_census_data = concatenated_df[keep_cols]"
   ]
  },
  {
   "cell_type": "code",
   "execution_count": null,
   "id": "86706279-1554-430a-a036-18181bf36ae2",
   "metadata": {
    "scrolled": true
   },
   "outputs": [],
   "source": [
    "birmingham_census_data.head()"
   ]
  },
  {
   "cell_type": "code",
   "execution_count": null,
   "id": "a882a237-3721-418f-9c16-568075abc90f",
   "metadata": {},
   "outputs": [],
   "source": [
    "list(birmingham_census_data.columns)"
   ]
  },
  {
   "cell_type": "code",
   "execution_count": null,
   "id": "23ce016a-2f04-4c4a-967f-049f1be89c02",
   "metadata": {},
   "outputs": [],
   "source": [
    "# For more easy manipulation we define short column names\n",
    "short_column_names = {\n",
    "    'Age: Aged 35 to 39 years_percentage': '35to39',\n",
    "    'Age: Aged 20 to 24 years_percentage': '20to24',\n",
    "    'Age: Aged 25 to 29 years_percentage': '25to29',\n",
    "    'Age: Aged 30 to 34 years_percentage': '30to34',\n",
    "    'Religion: No religion_percentage': 'No_Religion',\n",
    "    'Religion: Christian_percentage': 'Christian',\n",
    "    \n",
    "    'Sex: Female; measures: Value_percentage': 'Female',\n",
    "    'Sex: Male; measures: Value_percentage':'Male',\n",
    "    'Number of cars or vans: No cars or vans in household_percentage':'No_Car',\n",
    "    'Number of cars or vans: 1 car or van in household_percentage':'One_Car',\n",
    "    'Number of cars or vans: 2 cars or vans in household_percentage':'Two_Cars',\n",
    "    'Marital and civil partnership status: Never married and never registered a civil partnership; measures: Value_percentage': 'Never_Married',\n",
    "    'Marital and civil partnership status: Married or in a registered civil partnership: Married; measures: Value_percentage': 'Married',\n",
    "    'Proficiency in English language: Main language is English (English or Welsh in Wales)_percentage':'English_Main_Language',\n",
    "    'Proficiency in English language: Main language is not English (English or Welsh in Wales)_percentage':'English_Not_Main_Language',\n",
    "    'Proficiency in English language: Main language is not English (English or Welsh in Wales): Cannot speak English well_percentage':'Limited_English',\n",
    "    'Economic activity status: Economically active and a full-time student:In employment_percentage':'Employed_Student',\n",
    "    'Economic activity status: Economically active and a full-time student: Unemployed_percentage':'Unemployed_Student',\n",
    "    'Economic activity status: Economically active (excluding full-time students):In employment_percentage':'Employed_Professional',\n",
    "    'Economic activity status: Economically active (excluding full-time students): Unemployed_percentage':'Unemployed_Professional',\n",
    "    'Highest level of qualification: Level 3 qualifications_percentage':'Edulvl3',\n",
    "    'Highest level of qualification: Level 4 qualifications and above_percentage':'Edulvl≥4',\n",
    "    \n",
    "    \n",
    "    \n",
    "  \n",
    "}\n",
    "\n",
    "birmingham_census_data = birmingham_census_data.rename(columns=short_column_names)"
   ]
  },
  {
   "cell_type": "markdown",
   "id": "5411502b-0083-44fc-9e4e-5dd7d3e8b419",
   "metadata": {},
   "source": [
    "### 6. Standardisation \n",
    "Include standardisation between areas and variables. Make an appropriate analysis and adjust the variable selection accordingly for any multicollinearity."
   ]
  },
  {
   "cell_type": "markdown",
   "id": "dd1a9e38-9923-4cbb-b650-e3031fb461fb",
   "metadata": {},
   "source": [
    "#### 6.1 Z-Scores"
   ]
  },
  {
   "cell_type": "code",
   "execution_count": null,
   "id": "2cebbdae-1c6d-4b30-92ea-0c179d8dc13d",
   "metadata": {
    "jp-MarkdownHeadingCollapsed": true
   },
   "outputs": [],
   "source": [
    "# Calculating z scores for each variable (excluding the geo_code) \n",
    "numeric_columns = birmingham_census_data.select_dtypes(include='float64')\n",
    "z_score_df = (numeric_columns - numeric_columns.mean()) / numeric_columns.std(ddof=0)\n",
    "z_score_df.head()"
   ]
  },
  {
   "cell_type": "markdown",
   "id": "bc7f81a7-871a-4d7d-ab1a-5601463e5b78",
   "metadata": {},
   "source": [
    "#### 6.2 Measure the variables for association\n",
    "\n",
    "\n",
    "It is useful to test for associations between the final selection of variables. Collinear variables would essentially convey very similar distributions.\n",
    "\n",
    "This could give a particular phenomenon a higher weighting in the final classification. To check for multicollinearity, we can create a Pearson’s correlation matrix for the dataset. For every pair of variables, a Pearson’s coefficient and significance value are calculated. \n",
    "\n",
    "A Pearson’s coefficient (or r-square value) is presented on a scale between -1 and 1. The greater the value the greater the association between the two variable is. The direction of the value relate to the direction of the relationship, negative values represent negative relationships.\n",
    "\n",
    "As a rule of thumb, two variables with coefficients greater than ±0.8 can be considered highly correlated. In these cases, it might be reasonable to remove the variable that correlates the greatest with the other variables in the matrix so that you are left with the most unique ones. \n",
    "\n",
    "If you remove a varaible, you mmay need to find new variables to replace it. However, of course, some researchers might argue that it is reasonable to retain correlated variables so long as each has unique value and meaning. Indeed, so long as the correlations are not quite perfect (i.e 1 or -1), both variables in the pairs may contain useful outliers which could help distinguish certain areas."
   ]
  },
  {
   "cell_type": "code",
   "execution_count": null,
   "id": "853beb8b-9d85-4d08-afb3-3c7a45e3f2af",
   "metadata": {},
   "outputs": [],
   "source": [
    "z_score_df.info()"
   ]
  },
  {
   "cell_type": "code",
   "execution_count": null,
   "id": "2eadeca6-1e99-43e2-a88e-71548f599df0",
   "metadata": {},
   "outputs": [],
   "source": [
    "corr = z_score_df.corr()\n",
    "corr.style.background_gradient(cmap='coolwarm')"
   ]
  },
  {
   "cell_type": "code",
   "execution_count": null,
   "id": "9a76e3ec-350d-4eea-b18c-b2334d9c6d76",
   "metadata": {},
   "outputs": [],
   "source": [
    "import matplotlib.pyplot as plt\n",
    "\n",
    "plt.matshow(z_score_df.corr())\n",
    "plt.show()"
   ]
  },
  {
   "cell_type": "code",
   "execution_count": null,
   "id": "aef35a46-b86f-4780-9dee-8e42ff1f2911",
   "metadata": {},
   "outputs": [],
   "source": [
    "import seaborn as sns\n",
    "threshold = 0.8 #I raised the correlation to 0.8. Again, subjectivity issue. \n",
    "\n",
    "highly_correlated = (corr.abs() > threshold) & (corr.abs() < 1.0)\n",
    "\n",
    "plt.figure(figsize=(10, 8))\n",
    "sns.heatmap(highly_correlated, cmap='coolwarm', cbar=False, annot=True)\n",
    "\n",
    "plt.title('Highly Correlated Variables')\n",
    "plt.show()\n",
    "\n",
    "# The plot will represent  BINARY table 0 for false( out of the threshold) and 1 for above the threshold."
   ]
  },
  {
   "cell_type": "code",
   "execution_count": null,
   "id": "7d42220d-c855-4823-9afe-304a6fa3c5e7",
   "metadata": {},
   "outputs": [],
   "source": [
    "#Based on the previous results, we can remove the most correlated variables.\n",
    "z_score_df.drop(['English_Main_Language',\n",
    " 'English_Not_Main_Language',\n",
    " 'Limited_English','Never_Married','Female','No_Car'], axis=1, inplace=True)\n",
    "z_score_df.info()\n",
    "# In a sense, this is logical considering the census data; these variables are mutually exclusive, so of course there will be a negative correlation of -1. "
   ]
  },
  {
   "cell_type": "code",
   "execution_count": null,
   "id": "d49d94d9-72c3-4d50-b487-658756ba5cad",
   "metadata": {},
   "outputs": [],
   "source": [
    "# Let's run the correlation again, but instead with the edited variables. \n",
    "corr_2 = z_score_df.corr()\n",
    "corr_2.style.background_gradient(cmap='coolwarm')"
   ]
  },
  {
   "cell_type": "code",
   "execution_count": null,
   "id": "fbe90ac8-db14-4aa8-8976-f4ab155eb3f1",
   "metadata": {},
   "outputs": [],
   "source": [
    "threshold = 0.7\n",
    "highly_correlated_2 = (corr_2.abs() > threshold) & (corr_2.abs() < 1.0)\n",
    "\n",
    "plt.figure(figsize=(10, 8))\n",
    "sns.heatmap(highly_correlated_2, cmap='coolwarm', cbar=False, annot=True)\n",
    "\n",
    "plt.title('New Highly Correlated Variables')\n",
    "plt.show()"
   ]
  },
  {
   "cell_type": "code",
   "execution_count": null,
   "id": "2f0c54f1-df64-4c23-9da1-d6d567bcdabc",
   "metadata": {},
   "outputs": [],
   "source": [
    "contains_nan = z_score_df.isna().any().any()\n",
    "\n",
    "if contains_nan:\n",
    "    print(\"The DataFrame contains NaN values.\")\n",
    "else:\n",
    "    print(\"The dataFrame does not contain NaN values.\")"
   ]
  },
  {
   "cell_type": "code",
   "execution_count": null,
   "id": "01a85185-3d1d-44e7-bf47-39de99b5bfdb",
   "metadata": {},
   "outputs": [],
   "source": [
    "z_score_df.fillna(z_score_df.mean(), inplace=True) # Filling with mean"
   ]
  },
  {
   "cell_type": "code",
   "execution_count": null,
   "id": "5c8b4c05-dec2-474f-bfbb-52b3db09d5e8",
   "metadata": {
    "scrolled": true
   },
   "outputs": [],
   "source": [
    "z_score_df.head()"
   ]
  },
  {
   "cell_type": "code",
   "execution_count": null,
   "id": "818aecbb-5415-4c96-a843-c4eb110093af",
   "metadata": {},
   "outputs": [],
   "source": [
    "z_score_df.shape"
   ]
  },
  {
   "cell_type": "markdown",
   "id": "7ed9c309-d142-48e0-8c57-696b56436676",
   "metadata": {},
   "source": [
    "### 7. KMeans clustering classification \n",
    "Utilize the k-means clustering algorithm to create a classification based on the selected variables."
   ]
  },
  {
   "cell_type": "code",
   "execution_count": null,
   "id": "8eb9ad26-bda8-44d4-a814-03d9b5fe0a75",
   "metadata": {
    "scrolled": true
   },
   "outputs": [],
   "source": [
    "from sklearn.cluster import KMeans"
   ]
  },
  {
   "cell_type": "code",
   "execution_count": null,
   "id": "baae9e44-6f60-460c-88b6-aee54df4650e",
   "metadata": {},
   "outputs": [],
   "source": [
    "from scipy.spatial.distance import cdist, pdist\n",
    "\n",
    "# KMeans with 10 clusters\n",
    "kmeans = KMeans(n_clusters=10)\n",
    "kmeans.fit(z_score_df)\n",
    "labels = kmeans.predict(z_score_df)\n",
    "cluster_centres = kmeans.cluster_centers_\n",
    "z_score_df['Cluster'] = kmeans.labels_"
   ]
  },
  {
   "cell_type": "code",
   "execution_count": null,
   "id": "000a728b-5cb7-448f-b0a0-8a03454e10c3",
   "metadata": {},
   "outputs": [],
   "source": [
    "z_score_df.head()"
   ]
  },
  {
   "cell_type": "code",
   "execution_count": null,
   "id": "baea1a82-eee1-4a49-88f9-f6dc5973ef77",
   "metadata": {},
   "outputs": [],
   "source": [
    "plt.hist(labels)\n",
    "# This is a binomial distribution; it suggests that 10 clusters is far too many for the dataset. An ideal KMeans \n",
    "# is as homogenous as possible, evenly sized, and also distinct between the groups. "
   ]
  },
  {
   "cell_type": "markdown",
   "id": "df097ea8-3218-44f8-9b6b-a2ff9b71cbe0",
   "metadata": {},
   "source": [
    "### 8. Defining the optimum number of clusters \n",
    "Define the optimum number of clusters (i.e., using the Elblow method). Experiment with different values of k."
   ]
  },
  {
   "cell_type": "markdown",
   "id": "c71c01e7-3080-4c2f-9969-cde0aa310f31",
   "metadata": {},
   "source": [
    "#### 8.1 Testing using plots "
   ]
  },
  {
   "cell_type": "code",
   "execution_count": null,
   "id": "5b05bcdf-463c-426a-bbc3-d2e02a1d54ec",
   "metadata": {},
   "outputs": [],
   "source": [
    "# Let's try doing the same plot as above but with different values \n",
    "# KMeans with 8 clusters\n",
    "kmeans = KMeans(n_clusters=8) # Trying 8\n",
    "kmeans.fit(z_score_df)\n",
    "labels = kmeans.predict(z_score_df)\n",
    "cluster_centres = kmeans.cluster_centers_\n",
    "z_score_df['Cluster'] = kmeans.labels_\n",
    "plt.hist(labels)"
   ]
  },
  {
   "cell_type": "code",
   "execution_count": null,
   "id": "fcaea920-bf70-4c0e-97ca-531ce5571a1a",
   "metadata": {},
   "outputs": [],
   "source": [
    "kmeans = KMeans(n_clusters=6) # Trying 6\n",
    "kmeans.fit(z_score_df)\n",
    "labels = kmeans.predict(z_score_df)\n",
    "cluster_centres = kmeans.cluster_centers_\n",
    "z_score_df['Cluster'] = kmeans.labels_\n",
    "plt.hist(labels)"
   ]
  },
  {
   "cell_type": "code",
   "execution_count": null,
   "id": "e2b48907-4b7e-453d-a3e4-dfc133b32102",
   "metadata": {},
   "outputs": [],
   "source": [
    "kmeans = KMeans(n_clusters=4) # Trying 4\n",
    "kmeans.fit(z_score_df)\n",
    "labels = kmeans.predict(z_score_df)\n",
    "cluster_centres = kmeans.cluster_centers_\n",
    "z_score_df['Cluster'] = kmeans.labels_\n",
    "plt.hist(labels)"
   ]
  },
  {
   "cell_type": "markdown",
   "id": "1d774cbc-1b01-46aa-8702-4f882b8143d5",
   "metadata": {},
   "source": [
    "#### 8.2 Elbow Method "
   ]
  },
  {
   "cell_type": "code",
   "execution_count": null,
   "id": "231c3bf4-fd97-43d7-ad4b-5c0a8e7e975e",
   "metadata": {},
   "outputs": [],
   "source": [
    "Sum_of_squared_distances = []\n",
    "\n",
    "K_range = range(1,15)\n",
    "\n",
    "for k in K_range:\n",
    " km = KMeans(n_clusters=k)\n",
    " km = km.fit(z_score_df)\n",
    " Sum_of_squared_distances.append(km.inertia_)\n",
    "    \n",
    "plt.plot(K_range, Sum_of_squared_distances, 'bx-')\n",
    "plt.xlabel('k')\n",
    "plt.ylabel('Sum_of_squared_distances')\n",
    "plt.title('Elbow Method For Optimal k')\n",
    "plt.show()"
   ]
  },
  {
   "attachments": {
    "255f2431-9ff3-4728-bb32-9f92e1b1e826.png": {
     "image/png": "[encoded data removed]"
    }
   },
   "cell_type": "markdown",
   "id": "4f49d2f7-6647-4cef-83bf-2185bc96295e",
   "metadata": {},
   "source": [
    "Looks like the elbow of the arm is around 5. This is where the graph begins to flatten out, as adding more clusters doesn't provide much improvement in terms of cluster performance. \n",
    "![Screenshot 2024-03-18 at 9.58.20 AM.png](attachment:255f2431-9ff3-4728-bb32-9f92e1b1e826.png)"
   ]
  },
  {
   "cell_type": "markdown",
   "id": "c76baeb9-57fc-4dd0-be27-6089213c49cd",
   "metadata": {},
   "source": [
    "#### 8.3 Between-Cluster Squares "
   ]
  },
  {
   "cell_type": "code",
   "execution_count": null,
   "id": "347eea97-eacf-47a0-8b8d-f38c84b80b66",
   "metadata": {},
   "outputs": [],
   "source": [
    "import numpy as np\n",
    "def elbow(dataframe, n):\n",
    "    kMeansVar = [KMeans(n_clusters=k).fit(dataframe.values) for k in range(1, n)] #making use of list comprehensions.\n",
    "    centroids = [X.cluster_centers_ for X in kMeansVar]\n",
    "    k_euclid = [cdist(dataframe.values, cent) for cent in centroids]\n",
    "    dist = [np.min(ke, axis=1) for ke in k_euclid]\n",
    "    wcss = [sum(d**2) for d in dist]\n",
    "    tss = sum(pdist(dataframe.values)**2)/dataframe.values.shape[0]\n",
    "    bss = tss - wcss\n",
    "    plt.plot(bss)\n",
    "    plt.show()\n",
    " \n",
    "elbow(z_score_df,15)"
   ]
  },
  {
   "cell_type": "code",
   "execution_count": null,
   "id": "9a1a6227-107a-46b5-bbeb-968e6b97d418",
   "metadata": {},
   "outputs": [],
   "source": [
    "# KMeans with 5 clusters, after the validation with the Elbow method.\n",
    "kmeans = KMeans(n_clusters=5)\n",
    "kmeans.fit(z_score_df)\n",
    "labels = kmeans.predict(z_score_df)\n",
    "cluster_centres = kmeans.cluster_centers_\n",
    "\n",
    "z_score_df['Cluster'] = kmeans.labels_\n",
    "plt.hist(labels)"
   ]
  },
  {
   "cell_type": "markdown",
   "id": "6d772c05-282e-4598-97ad-9b9b6af05340",
   "metadata": {},
   "source": [
    "### 9. Evaluating and Interpreting Cluster Centres\n",
    "Evaluate your cluster groups (e.g., using PCA) and interpret your cluster centres. Describe your results and repeat the process to adjust the variable selection and cluster groups to provide more meaningful results for your geodemographic goal. Interpret the characteristics of each cluster. What demographic patterns or similarities are prevalent within each group?"
   ]
  },
  {
   "cell_type": "markdown",
   "id": "de02a4c4-eb06-404d-b659-d776a6a27417",
   "metadata": {},
   "source": [
    "#### 9.1 Using PCA "
   ]
  },
  {
   "cell_type": "code",
   "execution_count": null,
   "id": "4d971e8d-705a-4798-aeee-71fd872cef1d",
   "metadata": {},
   "outputs": [],
   "source": [
    "# Code based on the example provided here: \n",
    "# https://scikit-learn.org/stable/auto_examples/decomposition/plot_pca_iris.html#sphx-glr-auto-examples-decomposition-plot-pca-iris-py\n",
    "\n",
    "import plotly.express as px\n",
    "from sklearn.decomposition import PCA\n",
    "from sklearn.preprocessing import StandardScaler\n",
    "\n",
    "plt.figure(figsize=(12, 8))\n",
    "\n",
    "kmeans = KMeans(n_clusters=5) # Based on the \n",
    "clusters = kmeans.fit_predict(z_score_df)\n",
    "\n",
    "z_score_df['Cluster'] = clusters\n",
    "\n",
    "scaler = StandardScaler()\n",
    "stand_data_scaled = scaler.fit_transform(z_score_df)\n",
    "\n",
    "# PCA analysys.\n",
    "pca = PCA(n_components=2).fit(stand_data_scaled)\n",
    "pca_result = pca.transform(stand_data_scaled)\n",
    "\n",
    "#Percentage of variance explained by each of the selected components.\n",
    "variance_ratio = pca.explained_variance_ratio_\n",
    "\n",
    "# Create a scatter plot\n",
    "fig = px.scatter(x=pca_result[:, 0], y=pca_result[:, 1], color=clusters,\n",
    "                 labels={'color': 'Cluster'},\n",
    "                 #title='Cluster Plot against 1st 2 Principal Components',\n",
    "                 opacity=0.7,\n",
    "                 width=800, \n",
    "                 height=800)\n",
    "\n",
    "plt.tight_layout()\n",
    "fig.show()\n",
    "\n",
    "print(f\"These two components explain {(variance_ratio.sum()*100):.2f}% of the point variability.\")\n"
   ]
  },
  {
   "cell_type": "code",
   "execution_count": null,
   "id": "d29b357c-66a2-471b-ab3d-6967fe3f9dfe",
   "metadata": {},
   "outputs": [],
   "source": [
    "# Here is a static figure with the point variability included in the x/y-axis label.\n",
    "# So we can see what variability is provided by each component.\n",
    "\n",
    "kmeans = KMeans(n_clusters=5)\n",
    "clusters = kmeans.fit_predict(z_score_df)\n",
    "\n",
    "z_score_df['Cluster'] = clusters\n",
    "\n",
    "# Standardize the data for PCA\n",
    "scaler = StandardScaler()\n",
    "stand_data_scaled = scaler.fit_transform(z_score_df)\n",
    "\n",
    "# PCA\n",
    "pca = PCA(n_components=2).fit(stand_data_scaled)\n",
    "pca_result = pca.transform(stand_data_scaled)\n",
    "\n",
    "#Percentage of variance explained by each of the selected components.\n",
    "variance_ratio = pca.explained_variance_ratio_\n",
    "\n",
    "plt.figure(figsize=(10, 6))\n",
    "sns.scatterplot(x=pca_result[:, 0], y=pca_result[:, 1], hue=clusters, palette='viridis', s=50, alpha=0.7)\n",
    "plt.title('Cluster Plot against 1st 2 Principal Components')\n",
    "plt.xlabel(f'Principal Component 1 variation: {variance_ratio[0]*100:.2f}%')\n",
    "plt.ylabel(f'Principal Component 2 variation: {variance_ratio[1]*100:.2f}%')\n",
    "plt.legend(title='Clusters')\n",
    "plt.show()"
   ]
  },
  {
   "cell_type": "markdown",
   "id": "695a9654-07ca-4abc-b64f-2a32d2d8eb8f",
   "metadata": {},
   "source": [
    "The principal component variations are 22.92 and 15.5 percent respectively. There is a wider range of data in the 0 cluster as well as overlap between the 3rd and 4th clusters. "
   ]
  },
  {
   "cell_type": "markdown",
   "id": "fa3d9a74-1eb5-430f-9753-c8c84d3a6b9b",
   "metadata": {},
   "source": [
    "#### 9.2 Interpreting Clusters "
   ]
  },
  {
   "cell_type": "code",
   "execution_count": null,
   "id": "0ec485ad-15a8-4c39-8f9a-d07b57041bbb",
   "metadata": {},
   "outputs": [],
   "source": [
    "# Assigning a cluster value to each OA \n",
    "kmeans = KMeans(n_clusters=5) # Based on the elbow method, I'm using k = 5 \n",
    "clusters = kmeans.fit_predict(z_score_df)\n",
    "\n",
    "# Get the cluster centers\n",
    "cluster_centers = kmeans.cluster_centers_\n",
    "\n",
    "\n",
    "# Get the cluster centers\n",
    "cluster_centers = pd.DataFrame(kmeans.cluster_centers_, columns=z_score_df.columns)\n",
    "\n",
    "# Create a new DataFrame with cluster assignments and column names\n",
    "#result_df = pd.DataFrame({'Cluster': clusters, 'Column': z_score_df.columns})\n",
    "\n",
    "cluster_centers.head(5)"
   ]
  },
  {
   "cell_type": "markdown",
   "id": "9d1a094a-bc5a-4121-9773-2ade38baca2b",
   "metadata": {},
   "source": [
    "##### Cluster 0 - 25-34 Educated Employed Urbanites"
   ]
  },
  {
   "cell_type": "code",
   "execution_count": null,
   "id": "4ad13714-f9da-4603-9663-334578c654da",
   "metadata": {},
   "outputs": [],
   "source": [
    "# plotting the clusters ti find out their unique characteristics \n",
    "\n",
    "first_row_centers = cluster_centers.iloc[0, :]\n",
    "\n",
    "# len of features\n",
    "num_features = len(first_row_centers)\n",
    "\n",
    "# polar coordinates\n",
    "theta = np.linspace(0, 2 * np.pi, num_features, endpoint=True)\n",
    "\n",
    "fig, ax = plt.subplots(subplot_kw={'projection': 'polar'})\n",
    "ax.plot(theta, first_row_centers, linewidth=1, color='blue', marker='o', label='Centers')\n",
    "# Add an extra red line at the 0.0 value\n",
    "ax.plot(theta, np.zeros_like(first_row_centers), color='red', linestyle='--', label='Avarage')\n",
    "\n",
    "ax.set_xticks(theta)\n",
    "ax.set_xticklabels(cluster_centers.columns, rotation=45, ha='right')\n",
    "\n",
    "plt.show()\n",
    "#Ignore the cluster polar values, and focus in the census variables."
   ]
  },
  {
   "cell_type": "markdown",
   "id": "6239d8ca-f0bc-4813-8fd9-4eeeabbdbbc4",
   "metadata": {},
   "source": [
    "I labeled this first cluster (0) 25-34 Educated Employed Urbanites because of the above average distribution of ages 25 to 34, the lower than average number of two cars, and the above average employment rates. "
   ]
  },
  {
   "cell_type": "markdown",
   "id": "4e21273f-3cfd-417b-989a-e03b81de90b5",
   "metadata": {},
   "source": [
    "##### Cluster 1 - Secondary School Graduates in Employment "
   ]
  },
  {
   "cell_type": "code",
   "execution_count": null,
   "id": "7397667e-ab63-4991-8440-d55c12c75cf6",
   "metadata": {},
   "outputs": [],
   "source": [
    "second_row_centers = cluster_centers.iloc[1, :] # Changing the index so that it calls the second cluster (meaning index 1) \n",
    "\n",
    "# len of features\n",
    "num_features = len(second_row_centers)\n",
    "\n",
    "# polar coordinates\n",
    "theta = np.linspace(0, 2 * np.pi, num_features, endpoint=True)\n",
    "\n",
    "fig, ax = plt.subplots(subplot_kw={'projection': 'polar'})\n",
    "ax.plot(theta, second_row_centers, linewidth=1, color='blue', marker='o', label='Centers')\n",
    "# Add an extra red line at the 0.0 value\n",
    "ax.plot(theta, np.zeros_like(second_row_centers), color='red', linestyle='--', label='Avarage')\n",
    "\n",
    "ax.set_xticks(theta)\n",
    "ax.set_xticklabels(cluster_centers.columns, rotation=45, ha='right')\n",
    "\n",
    "plt.show()\n"
   ]
  },
  {
   "cell_type": "markdown",
   "id": "f446f5f2-60a0-4250-a795-f841194ed11b",
   "metadata": {},
   "source": [
    "The characteristics of the second cluster are aged 25 to 34 and secondary school graduates in employment. There are very low rates of education level above 3, and employment is mostly average with no student workers. Moreover, they have mostly average age distribution and are slightly more male than female. "
   ]
  },
  {
   "cell_type": "markdown",
   "id": "23656d5c-e8b9-449f-9880-af8243c9680f",
   "metadata": {},
   "source": [
    "##### Cluster 2 - Urban Religiously Diverse Students "
   ]
  },
  {
   "cell_type": "code",
   "execution_count": null,
   "id": "3a1cb024-fc55-4dcb-84fd-ddca000a6188",
   "metadata": {},
   "outputs": [],
   "source": [
    "third_row_centers = cluster_centers.iloc[2, :] # Changing the index so that it calls the third cluster (meaning index 2) \n",
    "\n",
    "# len of features\n",
    "num_features = len(third_row_centers)\n",
    "\n",
    "# polar coordinates\n",
    "theta = np.linspace(0, 2 * np.pi, num_features, endpoint=True)\n",
    "\n",
    "fig, ax = plt.subplots(subplot_kw={'projection': 'polar'})\n",
    "ax.plot(theta, third_row_centers, linewidth=1, color='blue', marker='o', label='Centers')\n",
    "# Add an extra red line at the 0.0 value\n",
    "ax.plot(theta, np.zeros_like(third_row_centers), color='red', linestyle='--', label='Avarage')\n",
    "\n",
    "ax.set_xticks(theta)\n",
    "ax.set_xticklabels(cluster_centers.columns, rotation=45, ha='right')\n",
    "\n",
    "plt.show()"
   ]
  },
  {
   "cell_type": "markdown",
   "id": "8d071fb4-a186-48f2-be09-fac2b8e25f38",
   "metadata": {},
   "source": [
    "This cluster is mostly students who belong to a religious minority. They are predominantly in secondary school or pursuing it. "
   ]
  },
  {
   "cell_type": "markdown",
   "id": "42f1a057-edde-4881-8884-853a5441ec4d",
   "metadata": {},
   "source": [
    "##### Cluster 3 - Employed suburbanites "
   ]
  },
  {
   "cell_type": "code",
   "execution_count": null,
   "id": "14fd2e48-32c6-4f61-868f-069fe8003a21",
   "metadata": {},
   "outputs": [],
   "source": [
    "fourth_row_centers = cluster_centers.iloc[3, :] # Changing the index so that it calls the fourth cluster (meaning index 3) \n",
    "\n",
    "# len of features\n",
    "num_features = len(fourth_row_centers)\n",
    "\n",
    "# polar coordinates\n",
    "theta = np.linspace(0, 2 * np.pi, num_features, endpoint=True)\n",
    "\n",
    "fig, ax = plt.subplots(subplot_kw={'projection': 'polar'})\n",
    "ax.plot(theta, fourth_row_centers, linewidth=1, color='blue', marker='o', label='Centers')\n",
    "# Add an extra red line at the 0.0 value\n",
    "ax.plot(theta, np.zeros_like(fourth_row_centers), color='red', linestyle='--', label='Avarage')\n",
    "\n",
    "ax.set_xticks(theta)\n",
    "ax.set_xticklabels(cluster_centers.columns, rotation=45, ha='right')\n",
    "\n",
    "plt.show()"
   ]
  },
  {
   "cell_type": "markdown",
   "id": "2a8fad8f-5852-4df7-ba8a-ec9477bbf893",
   "metadata": {},
   "source": [
    "This cluster reflects employed professionals who have two cars and likely live closer to suburban areas. They also represetna  smaller proportion of the population (based on the below averge numbers of all age groups) and are more likely to be Christian. "
   ]
  },
  {
   "cell_type": "markdown",
   "id": "d75a079d-269a-4bae-8c63-66049a9d2b60",
   "metadata": {},
   "source": [
    "##### Cluster 4 - Young working Urbanites with Level 3 Qualifications "
   ]
  },
  {
   "cell_type": "code",
   "execution_count": null,
   "id": "4a30953f-5c87-4725-b06f-b0a8a81a8d4a",
   "metadata": {},
   "outputs": [],
   "source": [
    "fifth_row_centers = cluster_centers.iloc[4, :] # Changing the index so that it calls the fourth cluster (meaning index 3) \n",
    "\n",
    "# len of features\n",
    "num_features = len(fifth_row_centers)\n",
    "\n",
    "# polar coordinates\n",
    "theta = np.linspace(0, 2 * np.pi, num_features, endpoint=True)\n",
    "\n",
    "fig, ax = plt.subplots(subplot_kw={'projection': 'polar'})\n",
    "ax.plot(theta, fifth_row_centers, linewidth=1, color='blue', marker='o', label='Centers')\n",
    "# Add an extra red line at the 0.0 value\n",
    "ax.plot(theta, np.zeros_like(fifth_row_centers), color='red', linestyle='--', label='Avarage')\n",
    "\n",
    "ax.set_xticks(theta)\n",
    "ax.set_xticklabels(cluster_centers.columns, rotation=45, ha='right')\n",
    "\n",
    "plt.show()"
   ]
  },
  {
   "cell_type": "markdown",
   "id": "d66fea1c-b6b2-46ab-85c0-ce04fa0f29b6",
   "metadata": {},
   "source": [
    "These are an overwhelmingly young demographic of the population in their early 20s. They are more likely to be students. They are slightly more female and are either still attaining degrees or working professionally. They are also slightly less likely to be religious. "
   ]
  },
  {
   "cell_type": "markdown",
   "id": "ad161277-0355-455f-91f4-e3914cf17e54",
   "metadata": {},
   "source": [
    "Here is a list of all the labelled clusters based on their characteristics: \n",
    "1. Cluster 0: 25-34 Educated Employed Urbanites\n",
    "2. Cluster 1: Secondary School Graduates in Employment \n",
    "3. Cluster 2: Urban Religiously Diverse Students \n",
    "4. Cluster 3: Employed suburbanites \n",
    "5. Cluster 4: Young working Urbanites with Level 3 Qualifications "
   ]
  },
  {
   "cell_type": "markdown",
   "id": "3a476eb5-1653-4d67-a4e3-94238157cfef",
   "metadata": {},
   "source": [
    "### 10. Mapping the clusters "
   ]
  },
  {
   "cell_type": "code",
   "execution_count": null,
   "id": "0dd27f7b-8fcb-4409-a5b7-b7000fc2d119",
   "metadata": {},
   "outputs": [],
   "source": [
    "list(z_score_df.columns)"
   ]
  },
  {
   "cell_type": "code",
   "execution_count": null,
   "id": "5ee41a0a-9fa5-4d63-a855-7b1f76d06d25",
   "metadata": {},
   "outputs": [],
   "source": [
    "z_score_df.drop(['35to39',\n",
    " '20to24',\n",
    " '25to29',\n",
    " '30to34',\n",
    " 'No_Religion',\n",
    " 'Christian',\n",
    " 'Male',\n",
    " 'One_Car',\n",
    " 'Two_Cars',\n",
    " 'Married',\n",
    " 'Employed_Student',\n",
    " 'Unemployed_Student',\n",
    " 'Employed_Professional',\n",
    " 'Unemployed_Professional',\n",
    " 'Edulvl3',\n",
    " 'Edulvl≥4'], axis=1, inplace=True)\n",
    "z_score_df.info()"
   ]
  },
  {
   "cell_type": "code",
   "execution_count": null,
   "id": "2eb375e0-02df-42d2-9b0c-f546d9015e9b",
   "metadata": {
    "scrolled": true
   },
   "outputs": [],
   "source": [
    "# Concatenate the resulting tables.\n",
    "final_df = pd.concat([birmingham_census_data, z_score_df], axis=1, ignore_index=False)\n",
    "final_df.head()"
   ]
  },
  {
   "cell_type": "code",
   "execution_count": null,
   "id": "d5fe5ca3-c7ed-4223-a7f8-b2cb79f67a12",
   "metadata": {},
   "outputs": [],
   "source": [
    "final_df.columns"
   ]
  },
  {
   "cell_type": "code",
   "execution_count": null,
   "id": "708f5df9-2a8f-40c3-9072-3961e32c646e",
   "metadata": {},
   "outputs": [],
   "source": [
    "final_df.explore(column='Cluster', cmap='Set2', tiles='CartoDB positron') "
   ]
  },
  {
   "cell_type": "markdown",
   "id": "e8d4e3ad-89d7-4efb-a9cc-03aae2d8357c",
   "metadata": {},
   "source": [
    "### 11. Naming and Final Map \n",
    " Task: Finish the analysis by naming the final clusters and plotting a final map that includes the census values and the provided names.\n",
    "\n",
    " Based on the analysis earlier for each of the clusters, I determined the categories to be as follows: \n",
    "1. Cluster 0: 25-34 Educated Employed Urbanites\n",
    "2. Cluster 1: Secondary School Graduates in Employment \n",
    "3. Cluster 2: Urban Religiously Diverse Students \n",
    "4. Cluster 3: Employed suburbanites \n",
    "5. Cluster 4: Young working Urbanites with Level 3 Qualifications\n",
    "\n",
    "However, this is not based in the classifications that are widely used and likely reflect my own personal perspective of the data. Based on the documentation [here](https://webarchive.nationalarchives.gov.uk/ukgwa/20160105160709/http://www.ons.gov.uk/ons/guide-method/geography/products/area-classifications/ns-area-classifications/ns-2011-area-classifications/pen-portraits-and-radial-plots/pen-portraits-oa.pdf), I'm going to edit these to best reflect the categories provided. \n",
    "\n",
    "Here are the new names based on the documentation. \n",
    "1. Cluster 0: Urban professionals and families\n",
    "* The population of this group shows a noticeably higher proportion of children aged 0 to 14 than the parent supergroup and a lower proportion aged 90 and over. There is also a higher proportion of people with mixed ethnicity. Households in this group are more likely to live in terraced properties and to live in privately rented accommodation. Unemployment is slightly higher than for the parent supergroup.\n",
    "2. Cluster 1:Commuters with young families\n",
    "* The population of this subgroup has a lower proportion of people who are of Pakistani ethnicity, but a higher proportion of Black ethnicity when compared with the group. Households are more likely to live in flats and to live in overcrowded conditions. People are more likely to work in the information and communication, and financial related industries.\n",
    "3. Cluster 2: Inner City Students\n",
    "* The age profile of this group shows a high proportion of schoolchildren, full-time students, and people aged 25 to 44, though a lower proportion married or divorced. Households are more likely to live in flats, to live in private rented accommodation, and to have overcrowded conditions. A lower proportion of people provide unpaid care, and a higher proportion work in accommodation or food service activities industries.  \n",
    "4. Cluster 3: Suburban Achievers\n",
    "* When compared with the parent supergroup a higher proportion of households live in detached properties and flats, and are less likely to rent their accommodation or live in overcrowded conditions. People of Indian ethnicity are over-represented when compared with the supergroup. Higher proportions of people have higher qualifications, and are more likely to work in the information and communication, and financial related industries. \n",
    "5. Cluster 4: Comfortable Cosmopolitans\n",
    "* The age profile of this group shows a higher proportion of people age 45 and over than the parent supergroup. A higher proportion of people are divorced. There is a lower representation for all nonWhite ethnic groups when compared with the supergroup and a lower proportion of people born in the old EU. There is a lower proportion of households with full-time students and a higher proportion who live in flats. A higher proportion of workers are employed in the mining and manufacturing industries, and travel to work using private transport.\n",
    "\n",
    "While the data used for the classification is not the same as the data that these sub-groups are classified by, there are significant factors that are telling, such as employment, car availability, education attainment status, and age that allowed me to approximate these categories. "
   ]
  },
  {
   "cell_type": "code",
   "execution_count": null,
   "id": "eccf9711-0b82-45da-babe-dbacaec03a4e",
   "metadata": {},
   "outputs": [],
   "source": [
    "def rename_column(x): \n",
    "    x = str(x)  # Convert integer to string\n",
    "    x = x.replace(\"0\", \"Urban professionals and families\") # Replacing for the categories defined earlier. \n",
    "    x = x.replace(\"1\", \"Commuters with young families\")\n",
    "    x = x.replace(\"2\", \"Inner City Students\")\n",
    "    x = x.replace(\"3\", \"Suburban Achievers\")\n",
    "    x = x.replace(\"4\", \"Comfortable Cosmopolitans\")\n",
    "    return x\n",
    "\n",
    "final_df['Cluster'] = final_df['Cluster'].apply(rename_column)"
   ]
  },
  {
   "cell_type": "code",
   "execution_count": null,
   "id": "ac828e8b-0efe-4cf5-ad42-fb054fa46d4d",
   "metadata": {},
   "outputs": [],
   "source": [
    "final_df.explore(column='Cluster', cmap='Set1', tiles='CartoDB positron')"
   ]
  },
  {
   "cell_type": "markdown",
   "id": "af5fa96b-081d-40cf-9961-0aabf315385f",
   "metadata": {},
   "source": [
    "### 12. Challenges and Insights\n",
    "Finally, acknowledge the subjective nature of classification and make analytical decisions to produce an optimum classification for your specific purpose. Reflect on the challenges and insights gained during the classification process. Ensure you document your analytical decisions and the rationale behind any important decision. Once your geodemographics are constructed, describe the potential use cases for the geodemographic classification you have built based on your initial goal\n",
    "\n"
   ]
  },
  {
   "cell_type": "markdown",
   "id": "28d5395b-a920-4dd7-b0af-f038e6a91adf",
   "metadata": {},
   "source": [
    "#### 12.1 Challenges and Insights \n",
    "To start with the challenges, defining the characteristics of a cluster was difficult to assess. The word choice and the most important factors to identity cluster by seemed to be reductive in light of all the data analysed. Moreover, by creating these categories, I felt that residents who were in the minority within these OAs were not accounted for. \n",
    "Applying the categories to a more limited subset of the census data (ie a certain age range, etc.) made it difficult to determine which of the population subgroup defnitions were appropriate. Likely, ground-truthing and qualitative interviews would need to be conducted to verify the geodemographic data presented. \n",
    "\n",
    "In term of insights, there are clear spatially distributed patterns of suburban achievers on the outskirts of Birmingham. Commuters with families also made up a large marjority of the OAs, but despite this, there are clear areas that are predominantly younger students and comfortable cosmopolitans. "
   ]
  },
  {
   "cell_type": "markdown",
   "id": "9ae0c8d1-7581-4324-ae5e-58f6d06ce816",
   "metadata": {},
   "source": [
    "#### 12.2 Potential Use Cases \n",
    "In choosing the variables to make this classification, I had in mind a younger demographic, particularly for use by an advertising agency. This informed my selection of the age demographic and the availability of transportation. For example, any advertisements for a cologne or perfume brand would likely want to know the education level and employment type of the people in certain neighborhoods; this would inform the word choice used in advertising. Additionally, knowing whether people are commuters or not will inform the placement of advertisements. To advertise a cologne/perfume to the Suburban Achievers cluster, agencies might decide to invest more in large billboards by roadways. On the other hand, if the target audience are students, understanding their employment type and their spatial distrubution would make for more effective ads and inform their pricing calculations. This can aid the company or brand by providing an understanding of who their consumers are and what values they might share. \n",
    "\n",
    "Another potential use case for this is for public health interventions. For example, if there is a public health intervention on sexual health and STI testing, understanding the employment type, language preference/understanding, and income would be very relevant factors for targeting certain interventions and for defining the promotional material used. Interventions on public health issues would also be different for families versus single persons, and might need to reflect employment type and whether the population is a student or not. "
   ]
  },
  {
   "cell_type": "code",
   "execution_count": null,
   "id": "59192153-c3df-4cb1-a0b6-83e54462a154",
   "metadata": {},
   "outputs": [],
   "source": []
  }
 ],
 "metadata": {
  "kernelspec": {
   "display_name": "Python 3 (ipykernel)",
   "language": "python",
   "name": "python3"
  },
  "language_info": {
   "codemirror_mode": {
    "name": "ipython",
    "version": 3
   },
   "file_extension": ".py",
   "mimetype": "text/x-python",
   "name": "python",
   "nbconvert_exporter": "python",
   "pygments_lexer": "ipython3",
   "version": "3.10.13"
  }
 },
 "nbformat": 4,
 "nbformat_minor": 5
}
